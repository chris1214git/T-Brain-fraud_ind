{
 "cells": [
  {
   "cell_type": "code",
   "execution_count": 6,
   "metadata": {},
   "outputs": [],
   "source": [
    "import pandas as pd\n",
    "import numpy as np\n",
    "import csv"
   ]
  },
  {
   "cell_type": "code",
   "execution_count": 9,
   "metadata": {},
   "outputs": [],
   "source": [
    "good_id = np.load('../../data/preprocess/test_data_good_index.npy')\n",
    "bad_id = np.load('../../data/preprocess/test_data_bad_index.npy')\n",
    "\n",
    "pred1 = pd.read_csv('submit_add_09_time1113_0147_th33.csv')\n",
    "pred2 = pd.read_csv('submit_add_09_time1113_0207_th31.csv')\n"
   ]
  },
  {
   "cell_type": "code",
   "execution_count": 18,
   "metadata": {},
   "outputs": [],
   "source": [
    "pred = pred1.copy()\n",
    "pred.loc[bad_id]=pred2.loc[bad_id]\n",
    "pred.to_csv('submit_add_09_seperate_time1113_0147_th33_time1113_0207_th31.csv',index=False)"
   ]
  },
  {
   "cell_type": "code",
   "execution_count": null,
   "metadata": {},
   "outputs": [],
   "source": []
  }
 ],
 "metadata": {
  "kernelspec": {
   "display_name": "Python 3",
   "language": "python",
   "name": "python3"
  },
  "language_info": {
   "codemirror_mode": {
    "name": "ipython",
    "version": 3
   },
   "file_extension": ".py",
   "mimetype": "text/x-python",
   "name": "python",
   "nbconvert_exporter": "python",
   "pygments_lexer": "ipython3",
   "version": "3.6.7"
  }
 },
 "nbformat": 4,
 "nbformat_minor": 2
}
