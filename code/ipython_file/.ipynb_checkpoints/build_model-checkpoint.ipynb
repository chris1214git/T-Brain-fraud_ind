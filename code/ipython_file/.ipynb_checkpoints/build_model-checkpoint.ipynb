{
 "cells": [
  {
   "cell_type": "markdown",
   "metadata": {},
   "source": [
    "### Task Schedule:\n",
    "1. 訓練模型,調整參數(預計使用lgb，速度較快)(更:使用catboost,效果較好)\n",
    "2. 嘗試使用不同模型,做Ensamble(blending, stacking)\n",
    "3. Anomaly detection\n",
    "\n",
    "### 注意事項:\n",
    "1. 因為test data和train data時間不相關,在驗證時採取前60天訓練61~90天驗證,但仍需小心時間差異造成的影響\n",
    "2. Anomaly detection: 看這類的模型能不能取代boosting(似乎是不行，盜刷數據並沒有那麼Anomaly）,但可以嘗試將Anomaly結果當成新feature\n",
    "\n",
    "### <font color=green>Results:</font>\n",
    "\n",
    "#### Catboost:\n",
    "    * FE1~4,catboost訓練 validation:0.5, LB:0.55\n",
    "    * FE1,3,4 validation:0.5313149, LB:0.6(th=0.37), default parameter\n",
    "\n",
    "#### LGB:\n",
    "    * 不做處理,直接丟lgb訓練 leaderboard score:0.45\n",
    "    # 585\n",
    "    # 593\n",
    "    # 不同的thread不同的結果 乾=="
   ]
  },
  {
   "cell_type": "markdown",
   "metadata": {},
   "source": [
    "## 讀取,轉換字串成可以訓練的資料"
   ]
  },
  {
   "cell_type": "code",
   "execution_count": null,
   "metadata": {},
   "outputs": [],
   "source": [
    "import pandas as pd\n",
    "import os\n",
    "import matplotlib.pyplot as plt\n",
    "import numpy as np\n",
    "import math\n",
    "\n",
    "import lightgbm as lgb\n",
    "from lightgbm.sklearn import LGBMClassifier\n",
    "from sklearn.metrics import f1_score\n",
    "from sklearn.metrics import confusion_matrix\n",
    "from catboost import CatBoostClassifier, Pool\n",
    "\n",
    "from lightgbm.sklearn import LGBMClassifier\n",
    "from sklearn.ensemble import RandomForestClassifier\n",
    "from sklearn.linear_model  import LogisticRegression\n",
    "from sklearn import svm\n",
    "from sklearn.ensemble  import  GradientBoostingClassifier\n",
    "from sklearn.neighbors import KNeighborsClassifier\n",
    "from sklearn.naive_bayes import GaussianNB\n",
    "\n",
    "%matplotlib inline\n",
    "data_path = '../../data'\n",
    "\n",
    "random_seed = 20\n",
    "import json\n",
    "path = '../../code/para_dict/data_list.json'\n",
    "with open(path,'r',encoding='utf-8') as f:\n",
    "    para = json.loads(f.read())\n",
    "    \n",
    "data_list= para['data_list_FE_AN7']\n",
    "delete_list = para['delete_list_overfit1']\n",
    "\n",
    "## 除掉一些可能會overfit,distribution不同,受時間影響大的feature"
   ]
  },
  {
   "cell_type": "code",
   "execution_count": null,
   "metadata": {
    "scrolled": true
   },
   "outputs": [],
   "source": [
    "def load_data(data_list):\n",
    "    data=[]\n",
    "    for d in data_list:\n",
    "        x = pd.read_csv('../../data/preprocess/{}'.format(d))\n",
    "        x_null = x.isnull().sum()\n",
    "        print('\\n',d,x.shape)\n",
    "        print(\"Null columns:\\n\",x_null[x_null>0])\n",
    "\n",
    "        if (d=='FE_data1.csv') or (d=='FE_data2.csv'):\n",
    "            x.fillna(value=-1,inplace=True)\n",
    "        \n",
    "        if d[:8]=='FE_data9':\n",
    "            if d!='FE_data9_raw.csv':\n",
    "                x = x.drop(columns=['bacno_shift1','bacno_shiftm1'])\n",
    "        data.append(x)\n",
    "\n",
    "    all_data = pd.concat(data,axis=1)\n",
    "    del data\n",
    "    all_data_numsum = all_data.isnull().sum()\n",
    "    print('ALL data shape:',all_data.shape)\n",
    "    print('ALL data null:')\n",
    "    print(all_data_numsum[all_data_numsum>0])\n",
    "    return all_data\n",
    "\n",
    "def transform_data(all_data,category_list,bool_list):\n",
    "    for c in category_list:\n",
    "        if all_data[c].dtypes == 'float64':\n",
    "            all_data[c] = all_data[c].astype('int')\n",
    "        all_data[c]=all_data[c].astype('category')\n",
    "\n",
    "    for c in all_data.columns[all_data.dtypes==bool]:\n",
    "        all_data[c]=all_data[c].map({True:1,False:0})\n",
    "\n",
    "    for c in bool_list:\n",
    "        if c in all_data.columns:\n",
    "            all_data[c]=all_data[c].map({'True':1,'False':0,'-1':-1})\n",
    "    \n",
    "    return all_data\n",
    "\n",
    "all_data = load_data(data_list)"
   ]
  },
  {
   "cell_type": "code",
   "execution_count": null,
   "metadata": {},
   "outputs": [],
   "source": [
    "import sys\n",
    "print(\"Memory size of \"+str(sys.getsizeof(all_data))+ \" bytes\")"
   ]
  },
  {
   "cell_type": "code",
   "execution_count": null,
   "metadata": {},
   "outputs": [],
   "source": [
    "\n",
    "category_list=['csmcu','hcefg','stscd','scity','stocn','mcc',\\\n",
    "               'acqic','mchno','etymd','contp','locdt_week']\n",
    "bool_list= ['cano_lastlocdt2_shift1','cano_lastlocdt2_shiftm1','bacno_stscd_equal2_shift1','bacno_stscd_equal2_shiftm1',\\\n",
    "            'bacno_ecfg_equal1_shift1','bacno_ecfg_equal1_shiftm1']\n",
    "\n",
    "# main\n",
    "all_data = transform_data(all_data,category_list,bool_list)\n"
   ]
  },
  {
   "cell_type": "code",
   "execution_count": null,
   "metadata": {},
   "outputs": [],
   "source": [
    "## 切三種不同的訓練集驗證\n",
    "X_train1 = all_data[all_data['locdt']<=60].drop(columns=delete_list)\n",
    "y_train1 = all_data[all_data['locdt']<=60]['fraud_ind']\n",
    "X_test1 = all_data[(all_data['locdt']>60) & (all_data['locdt']<=90)].drop(columns=delete_list)\n",
    "y_test1 = all_data[(all_data['locdt']>60) & (all_data['locdt']<=90)]['fraud_ind']\n",
    "\n",
    "# test_data_txkey = all_data[all_data['locdt']>90]['txkey'].copy().values\n",
    "# X_train_all = all_data[all_data['locdt']<=90].drop(columns=delete_list) \n",
    "# y_train_all = all_data[all_data['locdt']<=90]['fraud_ind'] \n",
    "# X_test_all = all_data[all_data['locdt']>90].drop(columns=delete_list) \n",
    "# y_test_all = all_data[all_data['locdt']>90]['fraud_ind'] "
   ]
  },
  {
   "cell_type": "markdown",
   "metadata": {},
   "source": [
    "## Train on catboost\n",
    "* https://catboost.ai/docs/concepts/python-reference_parameters-list.html\n",
    "* 研究有哪些可以用的function"
   ]
  },
  {
   "cell_type": "code",
   "execution_count": null,
   "metadata": {},
   "outputs": [],
   "source": [
    "categorical_features_indices = np.where(X_train1.columns.isin(category_list))[0]\n",
    "print(X_train1.dtypes[categorical_features_indices])"
   ]
  },
  {
   "cell_type": "code",
   "execution_count": null,
   "metadata": {},
   "outputs": [],
   "source": [
    "param_cat={\n",
    "\"loss_function\":\"Logloss\",\n",
    "\"eval_metric\":\"F1\",\n",
    "\n",
    "\"iterations\":6000,\n",
    "\"scale_pos_weight\":1,\n",
    "\"target_border\":0.5,\n",
    "\"thread_count\":1,\n",
    "\"task_type\":\"GPU\",\n",
    "\"devices\":\"0-2\",\n",
    "\"verbose\":20,\n",
    "\n",
    "\"learning_rate\":0.03,\n",
    "\"l2_leaf_reg\":1.5928,\n",
    "\"depth\":15,\n",
    "\"max_leaves\":35,\n",
    "\"bagging_temperature\":0.0520,\n",
    "\"random_strength\":10,\n",
    "\"one_hot_max_size\":200,\n",
    "\"grow_policy\":\"Lossguide\"\n",
    "}\n",
    "\n",
    "# 'random_strength':1,\n",
    "# 'depth':6,\n",
    "# 'grow_policy':'Lossguide',\n",
    "# 'min_data_in_leaf':1,\n",
    "# # 'max_leaves':31,\n",
    "# 'boosting_type':'Ordered',\n",
    "# 'gpu_ram_part':0.5,\n",
    "    \n",
    "# 將binary的資料轉成category\n"
   ]
  },
  {
   "cell_type": "code",
   "execution_count": null,
   "metadata": {},
   "outputs": [],
   "source": [
    "model = CatBoostClassifier(**param_cat)\n",
    "\n",
    "model.fit(\n",
    "    X_train1, y_train1,\n",
    "    cat_features=categorical_features_indices,    \n",
    "    eval_set=(X_test1, y_test1),\n",
    "    early_stopping_rounds=1000,\n",
    "#     use_best_model=True,\n",
    "    silent=False,\n",
    "#     plot=True,\n",
    ")\n",
    "print('Model is fitted: ' + str(model.is_fitted()))\n",
    "print('Model params:')\n",
    "print(model.get_params())"
   ]
  },
  {
   "cell_type": "code",
   "execution_count": null,
   "metadata": {},
   "outputs": [],
   "source": [
    "print(1)"
   ]
  },
  {
   "cell_type": "code",
   "execution_count": null,
   "metadata": {},
   "outputs": [],
   "source": [
    "feature_names = X_test1.columns\n",
    "validation_pool=Pool(X_test1, y_test1,cat_features=categorical_features_indices)\n",
    "\n",
    "# PredictionValuesChange\n",
    "feature_importances = model.get_feature_importance(validation_pool)\n",
    "print('PredictionValuesChange')\n",
    "for score, name in sorted(zip(feature_importances, feature_names), reverse=True):\n",
    "    print('{}: {}'.format(name, score)) "
   ]
  },
  {
   "cell_type": "code",
   "execution_count": null,
   "metadata": {},
   "outputs": [],
   "source": [
    "# LossFunctionChange\n",
    "feature_importances = model.get_feature_importance(validation_pool,type=\"LossFunctionChange\")\n",
    "print('LossFunctionChange')\n",
    "for score, name in sorted(zip(feature_importances, feature_names), reverse=True):\n",
    "    print('{}: {}'.format(name, score))"
   ]
  },
  {
   "cell_type": "code",
   "execution_count": null,
   "metadata": {},
   "outputs": [],
   "source": [
    "# Shapvalue\n",
    "feature_importances = model.get_feature_importance(validation_pool,type=\"ShapValues\")\n",
    "print('Shapvalue')\n",
    "feature_importances = np.mean(abs(feature_importances),axis=0)\n",
    "for score, name in sorted(zip(feature_importances, feature_names), reverse=True):\n",
    "    print('{}: {}'.format(name, score))"
   ]
  },
  {
   "cell_type": "code",
   "execution_count": null,
   "metadata": {},
   "outputs": [],
   "source": [
    "res = model.calc_feature_statistics(X_train1,\n",
    "                                    y_train1,\n",
    "#                                     prediction_type='Probability',\n",
    "#                                     cat_feature_values={6189:0}, \n",
    "                                    max_cat_features_on_plot=20,\n",
    "                                    feature=['bacno_max_conam'],#[\"mchno\"],\n",
    "                                    plot=True)"
   ]
  },
  {
   "cell_type": "code",
   "execution_count": null,
   "metadata": {},
   "outputs": [],
   "source": [
    "valid_all_data = all_data[(all_data['locdt']>60) & (all_data['locdt']<=90)]"
   ]
  },
  {
   "cell_type": "code",
   "execution_count": null,
   "metadata": {},
   "outputs": [],
   "source": [
    "tmp_df = valid_all_data.groupby(['bacno'])['fraud_ind'].apply(lambda s: s[s==1].shape[0])\n",
    "print(tmp_df.value_counts())"
   ]
  },
  {
   "cell_type": "code",
   "execution_count": null,
   "metadata": {},
   "outputs": [],
   "source": [
    "valid_all_data_correct = valid_all_data[valid_all_data['fraud_ind']==y_test1_pred]\n",
    "print(valid_all_data_correct.shape)\n",
    "print(valid_all_data.shape)"
   ]
  },
  {
   "cell_type": "code",
   "execution_count": null,
   "metadata": {},
   "outputs": [],
   "source": [
    "valid_all_data['correct'] = valid_all_data['fraud_ind']==y_test1_pred"
   ]
  },
  {
   "cell_type": "code",
   "execution_count": null,
   "metadata": {},
   "outputs": [],
   "source": []
  },
  {
   "cell_type": "code",
   "execution_count": null,
   "metadata": {},
   "outputs": [],
   "source": [
    "tmp_df2 = valid_all_data_correct.groupby(['bacno'])['fraud_ind'].apply(lambda s: s[s==1].shape[0])\n",
    "print(tmp_df2.value_counts())"
   ]
  },
  {
   "cell_type": "code",
   "execution_count": null,
   "metadata": {},
   "outputs": [],
   "source": [
    "bacno_fraud_count = valid_all_data.groupby('bacno').apply(lambda s:s[s['fraud_ind']==1]['bacno'].shape[0])"
   ]
  },
  {
   "cell_type": "code",
   "execution_count": null,
   "metadata": {},
   "outputs": [],
   "source": [
    "list1=['locdt','cano','etymd','mchno','acqic','mcc','stocn','conam','correct','fraud_ind']\n",
    "\n",
    "list2=['locdt','cano','cano_lastlocdt2','contp','csmcu','correct','fraud_ind',\\\n",
    "       'flbmk','flg_3dsmk','hcefg','insfg','iterm','mchno','ovrlt','correct','fraud_ind',\\\n",
    "       'scity','stocn','stscd','conam','etymd','mcc','ecfg','correct','fraud_ind']\n",
    "\n",
    "pd.set_option('display.max_columns', 500)\n",
    "bacno_10fraud_more_list = bacno_fraud_count[(bacno_fraud_count>=2)].index\n",
    "pd.set_option('display.max_rows', 1000)\n",
    "\n",
    "cnt=0\n",
    "for b in bacno_10fraud_more_list:\n",
    "    cnt+=1\n",
    "    if cnt>100:\n",
    "        break\n",
    "    print()\n",
    "    \n",
    "    print(b,valid_all_data[valid_all_data['bacno']==b]['fraud_ind'].sum())\n",
    "    print(valid_all_data[valid_all_data['bacno']==b][list2])"
   ]
  },
  {
   "cell_type": "code",
   "execution_count": null,
   "metadata": {},
   "outputs": [],
   "source": []
  },
  {
   "cell_type": "code",
   "execution_count": null,
   "metadata": {},
   "outputs": [],
   "source": []
  },
  {
   "cell_type": "code",
   "execution_count": null,
   "metadata": {},
   "outputs": [],
   "source": []
  },
  {
   "cell_type": "code",
   "execution_count": null,
   "metadata": {},
   "outputs": [],
   "source": []
  },
  {
   "cell_type": "code",
   "execution_count": null,
   "metadata": {},
   "outputs": [],
   "source": []
  },
  {
   "cell_type": "code",
   "execution_count": null,
   "metadata": {},
   "outputs": [],
   "source": [
    "## 理論上th設0.5一定是最好的？\n",
    "\n",
    "y_test1_pred = model.predict_proba(X_test1,verbose=True)[:,1]\n",
    "th=0.37\n",
    "\n",
    "y_test1_pred[y_test1_pred>th]=1\n",
    "y_test1_pred[y_test1_pred<=th]=0\n",
    "print('F1 score',f1_score(y_test1, y_test1_pred))\n",
    "\n",
    "tn, fp, fn, tp = confusion_matrix(y_test1, y_test1_pred).ravel()\n",
    "print('tn fp fn tp')\n",
    "print(tn, fp, fn, tp)\n",
    "print('Percision', tp/(tp+fp))\n",
    "print('Recall',tp/(tp+fn))"
   ]
  },
  {
   "cell_type": "code",
   "execution_count": null,
   "metadata": {},
   "outputs": [],
   "source": [
    "model = CatBoostClassifier(**param_cat)\n",
    "model.fit(\n",
    "    X_train_all, y_train_all,\n",
    "    cat_features=categorical_features_indices,    \n",
    "    silent=False\n",
    ")"
   ]
  },
  {
   "cell_type": "code",
   "execution_count": null,
   "metadata": {},
   "outputs": [],
   "source": [
    "y_test_pred_cat = model.predict_proba(X_test_all)[:,1]\n",
    "\n",
    "print(X_test_all.index)\n",
    "\n",
    "th=0.35\n",
    "y_test_pred_cat[y_test_pred_cat>th]=1\n",
    "y_test_pred_cat[y_test_pred_cat<=th]=0"
   ]
  },
  {
   "cell_type": "markdown",
   "metadata": {},
   "source": [
    "## write csv"
   ]
  },
  {
   "cell_type": "code",
   "execution_count": null,
   "metadata": {},
   "outputs": [],
   "source": [
    "import time\n",
    "print(time.localtime( time.time() ))\n",
    "a = time.localtime( time.time() )\n",
    "print(str(a.tm_mon)+str(a.tm_mday))"
   ]
  },
  {
   "cell_type": "code",
   "execution_count": null,
   "metadata": {
    "scrolled": false
   },
   "outputs": [],
   "source": [
    "result = y_test_pred_cat\n",
    "test_data_txkey = all_data[all_data['locdt']>90]['txkey'].values\n",
    "\n",
    "print('{}: prediction positive ratio'.format(result.sum()/result.shape[0]))\n",
    "print('{}: training positive ratio'.format(y_train_all.sum()/y_train_all.shape[0]))\n",
    "\n",
    "import time\n",
    "t_now = time.localtime( time.time() )\n",
    "t = str(t_now.tm_mon)+str(t_now.tm_mday)+str(t_now.tm_hour)+str(t_now.tm_min)\n",
    "print('Now:',t)\n",
    "\n",
    "submit_file_name='submit_cat_AN3_over5_th{}_time{}.csv'.format(th,t)\n",
    "import csv\n",
    "with open('../../prediction/{}'.format(submit_file_name),'w') as f:\n",
    "    writer = csv.writer(f)\n",
    "    writer.writerow(['txkey','fraud_ind'])\n",
    "    for i in range(result.shape[0]):\n",
    "        writer.writerow([test_data_txkey[i], result[i]])\n",
    "        \n",
    "# with open('../prediction/log.txt','w') as f:\n",
    "#     print('{}'.format(submit_file_name),file=f)\n",
    "#     print('delete_list:\\n{}'.format(delete_list),file=f)"
   ]
  },
  {
   "cell_type": "code",
   "execution_count": null,
   "metadata": {},
   "outputs": [],
   "source": []
  },
  {
   "cell_type": "code",
   "execution_count": null,
   "metadata": {},
   "outputs": [],
   "source": []
  },
  {
   "cell_type": "code",
   "execution_count": null,
   "metadata": {},
   "outputs": [],
   "source": [
    "## 用不同seed訓練 降低variance\n",
    "\n",
    "predictions = []\n",
    "\n",
    "for i in range(10):\n",
    "    clf = CatBoostClassifier(learning_rate=0.1, iterations=1000, random_seed=i, logging_level='Silent')\n",
    "    clf.fit(train_df, labels, cat_features=cat_features_ids)\n",
    "    predictions.append(clf.predict_proba(test_df)[:,1])\n",
    "    \n",
    "\n",
    "prediction = np.mean(predictions, axis=0)\n",
    "\n",
    "pd.DataFrame(\n",
    "    {'ID':test_id, 'PredictedProb':prediction}\n",
    ").to_csv(\n",
    "    'submission_improved_bagged.csv', index=False\n",
    ")"
   ]
  },
  {
   "cell_type": "code",
   "execution_count": null,
   "metadata": {},
   "outputs": [],
   "source": []
  },
  {
   "cell_type": "code",
   "execution_count": null,
   "metadata": {},
   "outputs": [],
   "source": []
  },
  {
   "cell_type": "code",
   "execution_count": null,
   "metadata": {},
   "outputs": [],
   "source": []
  },
  {
   "cell_type": "code",
   "execution_count": null,
   "metadata": {},
   "outputs": [],
   "source": []
  },
  {
   "cell_type": "code",
   "execution_count": null,
   "metadata": {},
   "outputs": [],
   "source": []
  },
  {
   "cell_type": "markdown",
   "metadata": {},
   "source": [
    "## 贝叶斯调参\n",
    "* http://nohup.cc/article/258/\n",
    "* https://github.com/fmfn/BayesianOptimization\n",
    "\n",
    "Results:\n",
    "{'params': {'bagging_temperature': 1.0,\n",
    "  'learning_rate': 0.2,\n",
    "  'reg_lambda': 17.267046492047776},\n",
    " 'target': 0.5339179149920837}"
   ]
  },
  {
   "cell_type": "code",
   "execution_count": null,
   "metadata": {},
   "outputs": [],
   "source": [
    "# from bayes_opt import BayesianOptimization\n",
    "# def cat_train(bagging_temperature, reg_lambda, learning_rate):\n",
    "#     params = {\n",
    "#         'iterations':2000,\n",
    "#         'depth':6,\n",
    "#         'bagging_temperature':bagging_temperature,\n",
    "#         'reg_lambda':reg_lambda,\n",
    "#         'learning_rate':learning_rate,\n",
    "#         'loss_function':'Logloss',\n",
    "#         'eval_metric':'F1',\n",
    "#         'random_seed':random_seed,\n",
    "#         'verbose':30\n",
    "#     }\n",
    " \n",
    "#     model = CatBoostClassifier(**params)\n",
    "#     # 评价数据集是验证集，评价指标是AUC\n",
    "#     model.fit(X_train1, y_train1,\\\n",
    "#               eval_set=(X_test1, y_test1),\\\n",
    "#               cat_features=categorical_features_indices,\\\n",
    "#               early_stopping_rounds=200) \n",
    "     \n",
    "#     print(params)\n",
    "#     score_max = model.best_score_.get('validation').get('F1')\n",
    "#     return score_max\n",
    " \n",
    "# cat_opt = BayesianOptimization(cat_train, \n",
    "#                            {\n",
    "#                               'bagging_temperature': (1, 50),  \n",
    "#                               'reg_lambda': (1, 200),\n",
    "#                               'learning_rate':(0.05, 0.2)\n",
    "#                             })\n",
    " \n",
    "# cat_opt.maximize(n_iter=15, init_points=random_seed)\n",
    "# cat_opt.max"
   ]
  },
  {
   "cell_type": "markdown",
   "metadata": {},
   "source": [
    "## Permutation importance"
   ]
  },
  {
   "cell_type": "code",
   "execution_count": null,
   "metadata": {},
   "outputs": [],
   "source": [
    "# def permutation_scoring(model,X,y):\n",
    "#     y_pred = model.predict(X)\n",
    "#     return f1_score(y, y_pred)\n",
    "\n",
    "# import eli5\n",
    "# from eli5.sklearn import PermutationImportance\n",
    "\n",
    "# print(y_test1.sum())\n",
    "# print(model.score(X_test1, y_test1))\n",
    "# perm = PermutationImportance(model, random_state=random_seed,scoring=permutation_scoring,n_iter=50).fit(X_test1, y_test1)\n",
    "# feature_importance1 = pd.DataFrame({'feature':X_test1.columns.tolist(),'importance':perm.feature_importances_})\n",
    "# delete_col1 = feature_importance1.iloc[:,0][(feature_importance1['importance'].values)<=0.0000]\n",
    "# print(delete_col1)\n",
    "\n",
    "# feature_importance1.sort_values(by=['importance'],inplace=True)\n",
    "# top_col = feature_importance1\n",
    "# for i in range(top_col.shape[0]):\n",
    "#     print(top_col.iloc[i].values)"
   ]
  },
  {
   "cell_type": "code",
   "execution_count": null,
   "metadata": {},
   "outputs": [],
   "source": [
    "# from eli5.catboost import explain_weights_catboost\n",
    "# explain_weights_catboost(model, vec=None, top=70, importance_type='PredictionValuesChange', feature_names=None, pool=None)"
   ]
  },
  {
   "cell_type": "markdown",
   "metadata": {},
   "source": [
    "## 將使用者分類來訓練模型:\n",
    "1. 根據cano的個數分類\n",
    "2. 根據txkey的個數分類\n",
    "3. 根據stocn的眾數分類\n",
    "\n",
    "murmur: 感覺這方法怪怪的,tree模型應該就能涵蓋進去"
   ]
  },
  {
   "cell_type": "code",
   "execution_count": null,
   "metadata": {},
   "outputs": [],
   "source": [
    "## txkey\n",
    "txkey_qcut_id = pd.qcut(all_data['bacno_txkey_nunique'],3,labels=[0,1,2])\n",
    "\n",
    "# print(all_data['bacno_txkey_nunique'])\n",
    "# print(txkey_qcut_id)\n",
    "models=[]\n",
    "for i in range(3):\n",
    "    print(i)"
   ]
  },
  {
   "cell_type": "markdown",
   "metadata": {},
   "source": [
    "## 不同model"
   ]
  },
  {
   "cell_type": "code",
   "execution_count": null,
   "metadata": {},
   "outputs": [],
   "source": [
    "def th_transform(th,y_test1_pred,y_test1):\n",
    "    y_test1_pred[y_test1_pred>th]=1\n",
    "    y_test1_pred[y_test1_pred<=th]=0\n",
    "    print('F1 score',f1_score(y_test1, y_test1_pred))\n",
    "    \n",
    "    return y_test1_pred"
   ]
  },
  {
   "cell_type": "code",
   "execution_count": null,
   "metadata": {},
   "outputs": [],
   "source": [
    "rf = RandomForestClassifier(n_estimators=200,random_state=random_seed,verbose=0,class_weight=\"balanced\", criterion='gini')\n",
    "\n",
    "rf.fit(X_train1, y_train1) \n",
    "y_pred_rf = rf.predict_proba(X_test1)[:,1]\n",
    "th_transform(0.37,y_pred_rf,y_test1)"
   ]
  },
  {
   "cell_type": "code",
   "execution_count": null,
   "metadata": {},
   "outputs": [],
   "source": [
    "def lgb_f1_score(y_true, y_pred):\n",
    "    y_pred = np.round(y_pred) # scikits f1 doesn't like probabilities\n",
    "    tn, fp, fn, tp = confusion_matrix(y_true, y_pred).ravel()\n",
    "    print()\n",
    "    print('tn, fp, fn, tp')\n",
    "    print(tn, fp, fn, tp)\n",
    "    return 'f1', f1_score(y_true, y_pred), True\n",
    "\n",
    "param_dist_lgb = {\n",
    "                  'num_leaves':26, \n",
    "#                   'max_depth':-1, \n",
    "                  'learning_rate':0.1, \n",
    "                  'n_estimators':2000,\n",
    "                  'objective': 'binary',\n",
    "#                   'subsample': 1, \n",
    "#                   'colsample_bytree': 0.5, \n",
    "                  'lambda_l1': 10,\n",
    "                  'lambda_l2': 10,\n",
    "#                   'min_child_weight': 1,\n",
    "                  'random_state': random_seed,\n",
    "                 }\n",
    "evals_result = {}\n",
    "\n",
    "lgb_clf = LGBMClassifier(**param_dist_lgb)\n",
    "lgb_clf.fit(X_train1, y_train1,\n",
    "        eval_set=[(X_train1, y_train1),(X_test1, y_test1)],\n",
    "        eval_metric=lgb_f1_score,\n",
    "        early_stopping_rounds=50,\n",
    "        verbose=True,\n",
    "        callbacks=[lgb.record_evaluation(evals_result)]\n",
    "        )\n",
    "y_test_pred = lgb_clf.predict(X_test1)\n",
    "print('F1 score',f1_score(y_test1, y_test_pred))"
   ]
  },
  {
   "cell_type": "code",
   "execution_count": null,
   "metadata": {},
   "outputs": [],
   "source": []
  },
  {
   "cell_type": "markdown",
   "metadata": {},
   "source": [
    "## Anomaly detection\n",
    "* one class svm\n",
    "* isolation tree\n",
    "* replicator NN\n",
    "* Kmeans?\n",
    "* KNN(take too much time)"
   ]
  },
  {
   "cell_type": "markdown",
   "metadata": {},
   "source": [
    "## 異常偵測\n",
    "wiki<br>\n",
    "https://zh.wikipedia.org/wiki/%E5%BC%82%E5%B8%B8%E6%A3%80%E6%B5%8B#cite_note-9\n",
    "\n",
    "因為盜刷很可能都是outlier，一般的機器學習方法在outlier上表現會很差，因此可以用來解釋為什麼會train不好的原因\n",
    "http://www.cainiaoxueyuan.com/suanfa/7017.html<br>\n",
    "https://towardsdatascience.com/outlier-detection-with-isolation-forest-3d190448d45e<br>\n",
    "https://medium.com/@cyeninesky3/oneclass-svm-%E7%95%B0%E5%B8%B8%E6%AA%A2%E6%B8%AC%E4%BB%BB%E5%8B%99-anomaly-detection-%E7%9A%84%E7%AE%97%E6%B3%95%E7%90%86%E8%A7%A3%E8%88%87%E5%AF%A6%E8%B8%90-cf5f0bbb01c0<br>\n",
    "\n",
    "isolation tree<br>\n",
    "https://zhuanlan.zhihu.com/p/25040651\n",
    "https://scikit-learn.org/stable/auto_examples/ensemble/plot_isolation_forest.html\n",
    "https://towardsdatascience.com/outlier-detection-with-extended-isolation-forest-1e248a3fe97b\n",
    "\n",
    "oneclass svm<br>\n",
    "https://scikit-learn.org/stable/auto_examples/svm/plot_oneclass.html\n",
    "\n",
    "Replicator NN<br>\n",
    "https://togaware.com/papers/dawak02.pdf\n",
    "\n",
    "one class kmeans?<br>\n",
    "https://ai100-2.cupoy.com/mission/D57"
   ]
  },
  {
   "cell_type": "markdown",
   "metadata": {},
   "source": [
    "## 製作特徵\n",
    "XGB, LGB, PCA, Isolation Forest, Kmean距離？, oneclass SVM?\n",
    "當作新feature"
   ]
  },
  {
   "cell_type": "code",
   "execution_count": null,
   "metadata": {},
   "outputs": [],
   "source": [
    "# import xgboost as xgb\n",
    "# param_dist_xgb = {'learning_rate':0.01, #默认0.3\n",
    "#               'n_estimators':1000, #树的个数\n",
    "# #               'max_depth':5,\n",
    "# #               'min_child_weight':1,\n",
    "# #               'gamma':0.2,\n",
    "# #               'subsample':0.8,\n",
    "# #               'colsample_bytree':0.8,\n",
    "# #               'objective': 'binary:logistic', #逻辑回归损失函数\n",
    "# #               'nthread':4,  #cpu线程数\n",
    "# #               'scale_pos_weight':1,\n",
    "#               'seed':random_seed}  #随机种子\n",
    "\n",
    "# evals_result = {}\n",
    "\n",
    "# xgb_clf = xgb.XGBClassifier(**param_dist_xgb)\n",
    "# xgb_clf.fit(X_train, y_train,\n",
    "#         eval_set=[(X_train, y_train),(X_test, y_test)],\n",
    "#         eval_metric=lgb_f1_score,\n",
    "#         early_stopping_rounds=600,\n",
    "#         verbose=True,\n",
    "# #         callbacks=[xgb.record_evaluation(evals_result)]\n",
    "#         )\n",
    "\n",
    "# print('F1',f1_score(y_test, xgb_clf.predict(X_test)))\n",
    "# xgb_X_train = xgb_clf.apply(X_train)\n",
    "# xgb_X_test = xgb_clf.apply(X_test)"
   ]
  },
  {
   "cell_type": "markdown",
   "metadata": {},
   "source": [
    "## Train on LGB(未調參數)(效果不好)"
   ]
  },
  {
   "cell_type": "code",
   "execution_count": null,
   "metadata": {
    "scrolled": false
   },
   "outputs": [],
   "source": [
    "def lgb_f1_score(y_true, y_pred):\n",
    "    y_pred = np.round(y_pred) # scikits f1 doesn't like probabilities\n",
    "    tn, fp, fn, tp = confusion_matrix(y_true, y_pred).ravel()\n",
    "    print()\n",
    "    print('tn, fp, fn, tp')\n",
    "    print(tn, fp, fn, tp)\n",
    "    return 'f1', f1_score(y_true, y_pred), True\n",
    "\n",
    "param_dist_lgb = {\n",
    "#                   'num_leaves':45, \n",
    "#                   'max_depth':5, \n",
    "                  'learning_rate':0.1, \n",
    "                  'n_estimators':2000,\n",
    "                  'objective': 'binary',\n",
    "#                   'subsample': 1, \n",
    "#                   'colsample_bytree': 0.5, \n",
    "#                   'lambda_l1': 0.1,\n",
    "#                   'lambda_l2': 0,\n",
    "#                   'min_child_weight': 1,\n",
    "                  'random_state': random_seed,\n",
    "                 }\n",
    "evals_result = {}\n",
    "\n",
    "lgb_clf = LGBMClassifier(**param_dist_lgb)\n",
    "lgb_clf.fit(X_train1, y_train1,\n",
    "        eval_set=[(X_train1, y_train1),(X_test1, y_test1)],\n",
    "        eval_metric=lgb_f1_score,\n",
    "        early_stopping_rounds=50,\n",
    "        verbose=True,\n",
    "        callbacks=[lgb.record_evaluation(evals_result)]\n",
    "        )\n",
    "y_test_pred = lgb_clf.predict(X_test1)"
   ]
  },
  {
   "cell_type": "code",
   "execution_count": null,
   "metadata": {},
   "outputs": [],
   "source": [
    "print('Plotting metrics recorded during training...')\n",
    "ax = lgb.plot_metric(evals_result, metric='f1')\n",
    "plt.show()\n",
    "\n",
    "print('Plotting feature importances...')\n",
    "ax = lgb.plot_importance(lgb_clf, max_num_features=30)\n",
    "plt.show()\n",
    "\n",
    "print('Plotting 4th tree...')  # one tree use categorical feature to split\n",
    "ax = lgb.plot_tree(lgb_clf, tree_index=3, figsize=(15, 15), show_info=['split_gain'])\n",
    "plt.show()\n",
    "\n",
    "print('Plotting 4th tree with graphviz...')\n",
    "graph = lgb.create_tree_digraph(lgb_clf, tree_index=3, name='Tree4')\n",
    "graph.render(view=True)"
   ]
  },
  {
   "cell_type": "code",
   "execution_count": null,
   "metadata": {},
   "outputs": [],
   "source": [
    "feature_importance = np.stack([X_train1.columns.values,lgb_clf.feature_importances_]).transpose()\n",
    "feature_importance = pd.DataFrame(feature_importance,columns=['feature_name','importance'])\n",
    "feature_importance.sort_values(by=['importance'],inplace=True,ascending=False)\n",
    "print(feature_importance)"
   ]
  },
  {
   "cell_type": "markdown",
   "metadata": {},
   "source": [
    "## PCA visualization in one person who has fraud data"
   ]
  },
  {
   "cell_type": "code",
   "execution_count": null,
   "metadata": {},
   "outputs": [],
   "source": [
    "from sklearn.decomposition import PCA\n",
    "def PCA_plot(x,label):\n",
    "    x = x.drop(columns=delete_list)\n",
    "    \n",
    "    ## 應該先轉dummy,標準化,再PCA\n",
    "#     dummy_list=['contp','etymd','stscd','hcefg']\n",
    "#     dummy_list2=['stocn','scity','csmcu']#'mchno','acqic','mcc',\n",
    "#     x[dummy_list] = x[dummy_list].astype(object)\n",
    "#     x[dummy_list2] = x[dummy_list2].astype(object)\n",
    "#     x = pd.get_dummies(x)    \n",
    "    \n",
    "    from sklearn.preprocessing import StandardScaler \n",
    "    stdsc = StandardScaler() \n",
    "    x = stdsc.fit_transform(x)\n",
    "    print(x.shape,label.sum())\n",
    "\n",
    "    PCA_model = PCA(n_components=2)\n",
    "    train_data_pca = PCA_model.fit_transform(x)\n",
    "    train_data_pca1 = train_data_pca[label==1]\n",
    "    train_data_pca0 = train_data_pca[label==0]\n",
    "    \n",
    "    plt.clf()\n",
    "    plt.figure(figsize=(10,10))\n",
    "    plt.scatter(train_data_pca1[:, 0], train_data_pca1[:, 1], c='r',label='fraud transaction',s=100)\n",
    "    plt.scatter(train_data_pca0[:, 0], train_data_pca0[:, 1], c='b',label='normal transaction',s=3)\n",
    "    plt.legend()\n",
    "    plt.show()\n",
    "    \n",
    "bacno_hasfraud = all_data[all_data['fraud_ind']==1]['bacno'].unique()\n",
    "print(bacno_hasfraud.shape[0])\n",
    "print(all_data[all_data['fraud_ind']==1].shape[0])\n",
    "\n",
    "for i in range(bacno_hasfraud.shape[0]):\n",
    "    if all_data[all_data['bacno']==bacno_hasfraud[i]].shape[0]>300:\n",
    "        print('Ploting PCA on bacno-{}'.format(bacno_hasfraud[i]))\n",
    "        PCA_plot(all_data[all_data['bacno']==bacno_hasfraud[i]],all_data[all_data['bacno']==bacno_hasfraud[i]]['fraud_ind'])\n",
    "\n",
    "## TSNE, Kmeans作圖?"
   ]
  },
  {
   "cell_type": "markdown",
   "metadata": {},
   "source": [
    "## Isolation Forest"
   ]
  },
  {
   "cell_type": "code",
   "execution_count": null,
   "metadata": {
    "scrolled": true
   },
   "outputs": [],
   "source": [
    "from sklearn.ensemble import IsolationForest\n",
    "\n",
    "c_ratio = y_train.sum()/y_train.shape[0]\n",
    "# fit the model\n",
    "clf = IsolationForest(behaviour='new', max_samples=0.8, max_features=1,\n",
    "                      random_state=random_seed, contamination=c_ratio)\n",
    "clf.fit(X_train)\n",
    "\n",
    "y_pred_train = clf.predict(X_train)\n",
    "y_pred_test = clf.predict(X_test)\n",
    "\n",
    "y_pred_test2 = -y_pred_test\n",
    "y_pred_test2[y_pred_test2==-1]=0\n",
    "y_pred_test2.sum()\n",
    "\n",
    "y_pred_train2 = -y_pred_train\n",
    "y_pred_train2[y_pred_train2==-1]=0\n",
    "y_pred_train2.sum()\n",
    "\n",
    "from sklearn.metrics import f1_score\n",
    "print(f1_score(y_train, y_pred_train2))\n",
    "print(f1_score(y_test, y_pred_test2))\n",
    "\n",
    "isolationtree_X_train = clf.score_samples(X_train)\n",
    "isolationtree_X_test = clf.score_samples(X_test)\n",
    "\n",
    "print(isolationtree_X_train)"
   ]
  },
  {
   "cell_type": "code",
   "execution_count": null,
   "metadata": {},
   "outputs": [],
   "source": []
  },
  {
   "cell_type": "code",
   "execution_count": null,
   "metadata": {},
   "outputs": [],
   "source": []
  },
  {
   "cell_type": "code",
   "execution_count": null,
   "metadata": {},
   "outputs": [],
   "source": []
  },
  {
   "cell_type": "code",
   "execution_count": null,
   "metadata": {},
   "outputs": [],
   "source": []
  },
  {
   "cell_type": "code",
   "execution_count": null,
   "metadata": {},
   "outputs": [],
   "source": [
    "# cano_lastlocdt\n",
    "# bacno_lastlocdt\n",
    "# bacno_cano_nunique\n",
    "\n"
   ]
  },
  {
   "cell_type": "code",
   "execution_count": null,
   "metadata": {},
   "outputs": [],
   "source": [
    "# bacno_etymd_nunique\n",
    "# bacno_contp_nunique"
   ]
  },
  {
   "cell_type": "code",
   "execution_count": null,
   "metadata": {},
   "outputs": [],
   "source": [
    "# 用hinge loss(當SVM)"
   ]
  },
  {
   "cell_type": "code",
   "execution_count": null,
   "metadata": {},
   "outputs": [],
   "source": [
    "# X_train['cents']\n",
    "# encoding data\n",
    "\n",
    "# GroupKfold\n",
    "# vanilla KFold"
   ]
  }
 ],
 "metadata": {
  "kernelspec": {
   "display_name": "Python 3",
   "language": "python",
   "name": "python3"
  },
  "language_info": {
   "codemirror_mode": {
    "name": "ipython",
    "version": 3
   },
   "file_extension": ".py",
   "mimetype": "text/x-python",
   "name": "python",
   "nbconvert_exporter": "python",
   "pygments_lexer": "ipython3",
   "version": "3.6.7"
  }
 },
 "nbformat": 4,
 "nbformat_minor": 2
}
