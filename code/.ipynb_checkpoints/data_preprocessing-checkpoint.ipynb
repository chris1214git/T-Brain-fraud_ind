{
 "cells": [
  {
   "cell_type": "markdown",
   "metadata": {},
   "source": [
    "# [玉山人工智慧公開挑戰賽2019秋季賽,真相只有一個 -『信用卡盜刷偵測』](https://tbrain.trendmicro.com.tw/Competitions/Details/10)\n",
    "\n",
    "## <font color=red>任務:預測某刷卡交易是否為盜刷</font>\n",
    "\n",
    "### Task Schedule:\n",
    "1. 讀取資料,將字串轉換成int\n",
    "2. EDA(exploratory data analysis)\n",
    "3. Feature engineering\n",
    "4. 訓練模型,調整參數(預計使用lgb，速度較快)\n",
    "5. 嘗試使用不同模型,做Ensamble(blending, stacking)\n",
    "6. Anomaly detection\n",
    "\n",
    "### 注意事項:\n",
    "1. 因為test data和train data時間不相關,在驗證時採取前60天訓練61~90天驗證,但仍需小心時間差異造成的影響\n",
    "\n",
    "### TODO:\n",
    "1. **EDA(見下方詳細解釋）,找出不適合作為training feature的特徵,加以轉化成高級特徵或刪除**\n",
    "2. **找data leakage**\n",
    "\n",
    "3. Anomaly detection: 看這類的模型能不能取代lgb(似乎是不行，盜刷數據並沒有那麼Anomaly）,但可以嘗試將Anomaly結果當成新feature\n",
    "\n",
    "### <font color=green>Results:</font>\n",
    "* 不做處理,直接丟lgb訓練 leaderboard score:0.45\n"
   ]
  },
  {
   "cell_type": "markdown",
   "metadata": {},
   "source": [
    "## 讀取,轉換字串成可以訓練的資料"
   ]
  },
  {
   "cell_type": "code",
   "execution_count": null,
   "metadata": {},
   "outputs": [],
   "source": [
    "import pandas as pd\n",
    "import os\n",
    "import matplotlib.pyplot as plt\n",
    "import numpy as np\n",
    "import math\n",
    "\n",
    "%matplotlib inline\n",
    "data_path = '../data/raw_data'\n",
    "\n",
    "random_seed = 2000"
   ]
  },
  {
   "cell_type": "code",
   "execution_count": null,
   "metadata": {},
   "outputs": [],
   "source": [
    "train_data_path = os.path.join(data_path,'train.zip')\n",
    "train_data = pd.read_csv(train_data_path, encoding = \"big5\")\n",
    "\n",
    "test_data_path = os.path.join(data_path,'test.zip')\n",
    "test_data = pd.read_csv(test_data_path, encoding = \"big5\")\n",
    "\n",
    "train_data_num = train_data.shape[0]\n",
    "test_data_txkey = test_data['txkey'].copy()\n",
    "\n",
    "train_data = train_data.sort_values(by=['bacno','locdt','loctm']).reset_index(drop=True)\n",
    "label_data = train_data['fraud_ind'].copy()\n",
    "\n",
    "all_data = pd.concat([train_data,test_data],axis=0).reset_index(drop=True)\n",
    "print(all_data.index)\n",
    "print(train_data.shape)\n",
    "print(test_data.shape)\n",
    "print(all_data.shape)"
   ]
  },
  {
   "cell_type": "code",
   "execution_count": null,
   "metadata": {
    "scrolled": false
   },
   "outputs": [],
   "source": [
    "train_data.head()"
   ]
  },
  {
   "cell_type": "code",
   "execution_count": null,
   "metadata": {},
   "outputs": [],
   "source": [
    "all_data.ecfg = all_data.ecfg.map({'N':0,'Y':1})\n",
    "all_data.ovrlt = all_data.ovrlt.map({'N':0,'Y':1})\n",
    "all_data.insfg = all_data.insfg.map({'N':0,'Y':1})\n",
    "all_data.flbmk = all_data.flbmk.map({'N':0,'Y':1})\n",
    "all_data.flg_3dsmk = all_data.flg_3dsmk.map({'N':0,'Y':1})\n",
    "all_data.loctm = all_data.loctm.astype(int)\n",
    "all_data = all_data.infer_objects()\n",
    "\n",
    "# print(all_data.dtypes)\n",
    "print('Missing value training data:\\n',train_data.isna().sum()[train_data.isna().sum()>0])\n",
    "print('Missing value testing data:\\n',test_data.isna().sum()[test_data.isna().sum()>0])\n",
    "\n",
    "## not neccessary to fill null value, since we use lgb model\n",
    "all_data.flbmk = all_data.flbmk.fillna(value=all_data.flbmk.mean(skipna=True))\n",
    "all_data.flg_3dsmk = all_data.flg_3dsmk.fillna(value=all_data.flg_3dsmk.mean(skipna=True))"
   ]
  },
  {
   "cell_type": "markdown",
   "metadata": {},
   "source": [
    "## Dirty Data"
   ]
  },
  {
   "cell_type": "code",
   "execution_count": null,
   "metadata": {
    "scrolled": false
   },
   "outputs": [],
   "source": [
    "weird1 = (all_data['insfg']==1)&(all_data['iterm']==0)\n",
    "print(weird1.value_counts())\n",
    "print(all_data[weird1]['fraud_ind'].sum())"
   ]
  },
  {
   "cell_type": "code",
   "execution_count": null,
   "metadata": {},
   "outputs": [],
   "source": [
    "binary_list=['ecfg','insfg','ovrlt','flbmk','flg_3dsmk']\n",
    "category_list=['contp','etymd','hcefg','stocn','scity','stscd','csmcu']"
   ]
  },
  {
   "cell_type": "markdown",
   "metadata": {},
   "source": [
    "## Feature engineering\n",
    "* train & valid only（先不考慮test data)"
   ]
  },
  {
   "cell_type": "code",
   "execution_count": null,
   "metadata": {},
   "outputs": [],
   "source": [
    "# for i in range(500):\n",
    "#     print(i,all_data.groupby(['bacno']).get_group(i)[['ecfg','fraud_ind']])\n",
    "# mean_df = all_data.groupby(['bacno'])['fraud_ind'].mean().reset_index()\n",
    "# mean_df.columns = ['bacno', 'loctm_hr'+'_mean']\n",
    "# all_data = pd.merge(all_data, mean_df, on='bacno', how='left')\n",
    "\n",
    "# print(all_data[['bacno','locdt','loctm']])\n",
    "\n",
    "# 該交易的歸戶帳號是否曾經被盜刷 0->沒 1->有 -1->無紀錄\n",
    "\n",
    "\n",
    "# 該交易的歸戶帳號是否曾經被盜刷卻又復原\n",
    "# 該交易的歸戶帳號是否第一次刷卡\n",
    "# 該交易的歸戶帳號第幾次刷卡\n",
    "\n",
    "# 該交易的卡號是否曾經被盜刷\n",
    "# 該交易的卡號是否曾經被盜刷卻又復原\n",
    "# 該交易的卡號是否第一次刷卡\n",
    "# 該交易的卡號第幾次刷卡\n",
    "\n",
    "# mean_df = all_data.groupby(['bacno']).apply(lambda s:s.mode()).reset_index()\n",
    "# mean_df.columns = ['bacno', 'stocn'+'_mode']\n",
    "# mean_df.fillna(-1,inplace=True)\n",
    "# print(mean_df.stocn_mode.value_counts())\n",
    "# all_data = pd.merge(all_data, mean_df, on='bacno', how='left')\n",
    "\n",
    "# 消費國別是否跟自己所有消費的眾數不一樣\n",
    "# 消費城市是否跟自己所有消費的眾數不一樣\n",
    "# 消費地幣別是否跟自己所有消費的眾數不一樣\n",
    "# 支付型態是否跟自己所有消費的眾數不一樣\n",
    "# 分期期數是否跟自己所有消費的眾數不一樣\n",
    "\n",
    "# 是否第一次網路消費且過去有非網路消費的經驗\n",
    "\n"
   ]
  },
  {
   "cell_type": "code",
   "execution_count": null,
   "metadata": {},
   "outputs": [],
   "source": [
    "# data = pd.concat([df[:train_num], train_Y], axis=1)\n",
    "# for c in df.columns:\n",
    "#     mean_df = data.groupby([c])['SalePrice'].mean().reset_index()\n",
    "#     mean_df.columns = [c, f'{c}_mean']\n",
    "#     data = pd.merge(data, mean_df, on=c, how='left')\n",
    "#     data = data.drop([c] , axis=1)\n",
    "\n",
    "\n",
    "# all_data['howmany_cano'] = \n",
    "# all_data['howmany_txkey'] = \n",
    "\n",
    "## bacno刷卡頻率分佈\n",
    "\n",
    "# all_data['fraud_before'] =\n",
    "# all_data['fraud_last_time'] =\n",
    "\n",
    "# 印出某個被盜刷的人的刷卡使用時間分佈\n"
   ]
  },
  {
   "cell_type": "code",
   "execution_count": null,
   "metadata": {},
   "outputs": [],
   "source": []
  },
  {
   "cell_type": "code",
   "execution_count": null,
   "metadata": {},
   "outputs": [],
   "source": []
  },
  {
   "cell_type": "code",
   "execution_count": null,
   "metadata": {},
   "outputs": [],
   "source": []
  },
  {
   "cell_type": "code",
   "execution_count": null,
   "metadata": {},
   "outputs": [],
   "source": []
  },
  {
   "cell_type": "code",
   "execution_count": null,
   "metadata": {},
   "outputs": [],
   "source": []
  },
  {
   "cell_type": "code",
   "execution_count": null,
   "metadata": {},
   "outputs": [],
   "source": []
  },
  {
   "cell_type": "code",
   "execution_count": null,
   "metadata": {},
   "outputs": [],
   "source": []
  },
  {
   "cell_type": "code",
   "execution_count": null,
   "metadata": {},
   "outputs": [],
   "source": []
  },
  {
   "cell_type": "code",
   "execution_count": null,
   "metadata": {},
   "outputs": [],
   "source": []
  },
  {
   "cell_type": "code",
   "execution_count": null,
   "metadata": {},
   "outputs": [],
   "source": []
  },
  {
   "cell_type": "code",
   "execution_count": null,
   "metadata": {},
   "outputs": [],
   "source": []
  },
  {
   "cell_type": "code",
   "execution_count": null,
   "metadata": {},
   "outputs": [],
   "source": []
  },
  {
   "cell_type": "code",
   "execution_count": null,
   "metadata": {},
   "outputs": [],
   "source": []
  }
 ],
 "metadata": {
  "kernelspec": {
   "display_name": "Python 3",
   "language": "python",
   "name": "python3"
  },
  "language_info": {
   "codemirror_mode": {
    "name": "ipython",
    "version": 3
   },
   "file_extension": ".py",
   "mimetype": "text/x-python",
   "name": "python",
   "nbconvert_exporter": "python",
   "pygments_lexer": "ipython3",
   "version": "3.5.2"
  }
 },
 "nbformat": 4,
 "nbformat_minor": 2
}
