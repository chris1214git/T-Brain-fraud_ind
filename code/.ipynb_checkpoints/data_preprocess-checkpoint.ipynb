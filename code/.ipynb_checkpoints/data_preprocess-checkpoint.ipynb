{
 "cells": [
  {
   "cell_type": "code",
   "execution_count": 1,
   "metadata": {},
   "outputs": [],
   "source": [
    "import pandas as pd\n",
    "import os\n",
    "import matplotlib.pyplot as plt\n",
    "import numpy as np\n",
    "import math\n",
    "\n",
    "%matplotlib inline\n",
    "data_path = '../data'"
   ]
  },
  {
   "cell_type": "code",
   "execution_count": 2,
   "metadata": {},
   "outputs": [
    {
     "name": "stderr",
     "output_type": "stream",
     "text": [
      "/usr/local/lib/python3.5/dist-packages/ipykernel_launcher.py:13: FutureWarning: Sorting because non-concatenation axis is not aligned. A future version\n",
      "of pandas will change to not sort by default.\n",
      "\n",
      "To accept the future behavior, pass 'sort=False'.\n",
      "\n",
      "To retain the current behavior and silence the warning, pass 'sort=True'.\n",
      "\n",
      "  del sys.path[0]\n"
     ]
    },
    {
     "name": "stdout",
     "output_type": "stream",
     "text": [
      "RangeIndex(start=0, stop=1943452, step=1)\n",
      "(1521787, 23)\n",
      "(421665, 22)\n",
      "(1943452, 23)\n"
     ]
    }
   ],
   "source": [
    "train_data_path = os.path.join(data_path,'train.zip')\n",
    "train_data = pd.read_csv(train_data_path, encoding = \"big5\")\n",
    "\n",
    "test_data_path = os.path.join(data_path,'test.zip')\n",
    "test_data = pd.read_csv(test_data_path, encoding = \"big5\")\n",
    "\n",
    "train_data_num = train_data.shape[0]\n",
    "test_data_txkey = test_data['txkey'].copy()\n",
    "\n",
    "train_data = train_data.sort_values(by=['bacno','locdt','loctm']).reset_index(drop=True)\n",
    "label_data = train_data['fraud_ind'].copy()\n",
    "\n",
    "all_data = pd.concat([train_data,test_data],axis=0).reset_index(drop=True)\n",
    "print(all_data.index)\n",
    "print(train_data.shape)\n",
    "print(test_data.shape)\n",
    "print(all_data.shape)"
   ]
  },
  {
   "cell_type": "code",
   "execution_count": 3,
   "metadata": {
    "scrolled": false
   },
   "outputs": [
    {
     "data": {
      "text/html": [
       "<div>\n",
       "<style scoped>\n",
       "    .dataframe tbody tr th:only-of-type {\n",
       "        vertical-align: middle;\n",
       "    }\n",
       "\n",
       "    .dataframe tbody tr th {\n",
       "        vertical-align: top;\n",
       "    }\n",
       "\n",
       "    .dataframe thead th {\n",
       "        text-align: right;\n",
       "    }\n",
       "</style>\n",
       "<table border=\"1\" class=\"dataframe\">\n",
       "  <thead>\n",
       "    <tr style=\"text-align: right;\">\n",
       "      <th></th>\n",
       "      <th>acqic</th>\n",
       "      <th>bacno</th>\n",
       "      <th>cano</th>\n",
       "      <th>conam</th>\n",
       "      <th>contp</th>\n",
       "      <th>csmcu</th>\n",
       "      <th>ecfg</th>\n",
       "      <th>etymd</th>\n",
       "      <th>flbmk</th>\n",
       "      <th>flg_3dsmk</th>\n",
       "      <th>...</th>\n",
       "      <th>iterm</th>\n",
       "      <th>locdt</th>\n",
       "      <th>loctm</th>\n",
       "      <th>mcc</th>\n",
       "      <th>mchno</th>\n",
       "      <th>ovrlt</th>\n",
       "      <th>scity</th>\n",
       "      <th>stocn</th>\n",
       "      <th>stscd</th>\n",
       "      <th>txkey</th>\n",
       "    </tr>\n",
       "  </thead>\n",
       "  <tbody>\n",
       "    <tr>\n",
       "      <th>0</th>\n",
       "      <td>6413</td>\n",
       "      <td>1</td>\n",
       "      <td>117264</td>\n",
       "      <td>934.49</td>\n",
       "      <td>5</td>\n",
       "      <td>62</td>\n",
       "      <td>N</td>\n",
       "      <td>4</td>\n",
       "      <td>N</td>\n",
       "      <td>N</td>\n",
       "      <td>...</td>\n",
       "      <td>0</td>\n",
       "      <td>3</td>\n",
       "      <td>200000.0</td>\n",
       "      <td>275</td>\n",
       "      <td>53099</td>\n",
       "      <td>N</td>\n",
       "      <td>5817</td>\n",
       "      <td>102</td>\n",
       "      <td>0</td>\n",
       "      <td>1549254</td>\n",
       "    </tr>\n",
       "    <tr>\n",
       "      <th>1</th>\n",
       "      <td>6189</td>\n",
       "      <td>1</td>\n",
       "      <td>117264</td>\n",
       "      <td>939.19</td>\n",
       "      <td>5</td>\n",
       "      <td>62</td>\n",
       "      <td>Y</td>\n",
       "      <td>2</td>\n",
       "      <td>N</td>\n",
       "      <td>N</td>\n",
       "      <td>...</td>\n",
       "      <td>0</td>\n",
       "      <td>4</td>\n",
       "      <td>221428.0</td>\n",
       "      <td>317</td>\n",
       "      <td>90151</td>\n",
       "      <td>N</td>\n",
       "      <td>1463</td>\n",
       "      <td>102</td>\n",
       "      <td>0</td>\n",
       "      <td>1837177</td>\n",
       "    </tr>\n",
       "    <tr>\n",
       "      <th>2</th>\n",
       "      <td>6189</td>\n",
       "      <td>1</td>\n",
       "      <td>117264</td>\n",
       "      <td>1267.47</td>\n",
       "      <td>5</td>\n",
       "      <td>62</td>\n",
       "      <td>Y</td>\n",
       "      <td>2</td>\n",
       "      <td>N</td>\n",
       "      <td>N</td>\n",
       "      <td>...</td>\n",
       "      <td>0</td>\n",
       "      <td>25</td>\n",
       "      <td>212635.0</td>\n",
       "      <td>317</td>\n",
       "      <td>90151</td>\n",
       "      <td>N</td>\n",
       "      <td>1463</td>\n",
       "      <td>102</td>\n",
       "      <td>0</td>\n",
       "      <td>1859385</td>\n",
       "    </tr>\n",
       "    <tr>\n",
       "      <th>3</th>\n",
       "      <td>6231</td>\n",
       "      <td>1</td>\n",
       "      <td>117264</td>\n",
       "      <td>1017.37</td>\n",
       "      <td>5</td>\n",
       "      <td>62</td>\n",
       "      <td>N</td>\n",
       "      <td>5</td>\n",
       "      <td>N</td>\n",
       "      <td>N</td>\n",
       "      <td>...</td>\n",
       "      <td>0</td>\n",
       "      <td>30</td>\n",
       "      <td>200947.0</td>\n",
       "      <td>277</td>\n",
       "      <td>12726</td>\n",
       "      <td>N</td>\n",
       "      <td>5817</td>\n",
       "      <td>102</td>\n",
       "      <td>0</td>\n",
       "      <td>994333</td>\n",
       "    </tr>\n",
       "    <tr>\n",
       "      <th>4</th>\n",
       "      <td>6189</td>\n",
       "      <td>1</td>\n",
       "      <td>117264</td>\n",
       "      <td>613.81</td>\n",
       "      <td>5</td>\n",
       "      <td>62</td>\n",
       "      <td>N</td>\n",
       "      <td>4</td>\n",
       "      <td>N</td>\n",
       "      <td>N</td>\n",
       "      <td>...</td>\n",
       "      <td>0</td>\n",
       "      <td>34</td>\n",
       "      <td>150512.0</td>\n",
       "      <td>263</td>\n",
       "      <td>92571</td>\n",
       "      <td>N</td>\n",
       "      <td>5817</td>\n",
       "      <td>102</td>\n",
       "      <td>0</td>\n",
       "      <td>1639576</td>\n",
       "    </tr>\n",
       "  </tbody>\n",
       "</table>\n",
       "<p>5 rows × 23 columns</p>\n",
       "</div>"
      ],
      "text/plain": [
       "   acqic  bacno    cano    conam  contp  csmcu ecfg  etymd flbmk flg_3dsmk  \\\n",
       "0   6413      1  117264   934.49      5     62    N      4     N         N   \n",
       "1   6189      1  117264   939.19      5     62    Y      2     N         N   \n",
       "2   6189      1  117264  1267.47      5     62    Y      2     N         N   \n",
       "3   6231      1  117264  1017.37      5     62    N      5     N         N   \n",
       "4   6189      1  117264   613.81      5     62    N      4     N         N   \n",
       "\n",
       "    ...     iterm  locdt     loctm  mcc  mchno  ovrlt  scity  stocn stscd  \\\n",
       "0   ...         0      3  200000.0  275  53099      N   5817    102     0   \n",
       "1   ...         0      4  221428.0  317  90151      N   1463    102     0   \n",
       "2   ...         0     25  212635.0  317  90151      N   1463    102     0   \n",
       "3   ...         0     30  200947.0  277  12726      N   5817    102     0   \n",
       "4   ...         0     34  150512.0  263  92571      N   5817    102     0   \n",
       "\n",
       "     txkey  \n",
       "0  1549254  \n",
       "1  1837177  \n",
       "2  1859385  \n",
       "3   994333  \n",
       "4  1639576  \n",
       "\n",
       "[5 rows x 23 columns]"
      ]
     },
     "execution_count": 3,
     "metadata": {},
     "output_type": "execute_result"
    }
   ],
   "source": [
    "train_data.head()"
   ]
  },
  {
   "cell_type": "code",
   "execution_count": 4,
   "metadata": {},
   "outputs": [
    {
     "name": "stdout",
     "output_type": "stream",
     "text": [
      "Missing value training data:\n",
      " flbmk        12581\n",
      "flg_3dsmk    12581\n",
      "dtype: int64\n",
      "Missing value testing data:\n",
      " flbmk        3715\n",
      "flg_3dsmk    3715\n",
      "dtype: int64\n"
     ]
    }
   ],
   "source": [
    "all_data.ecfg = all_data.ecfg.map({'N':0,'Y':1})\n",
    "all_data.ovrlt = all_data.ovrlt.map({'N':0,'Y':1})\n",
    "all_data.insfg = all_data.insfg.map({'N':0,'Y':1})\n",
    "all_data.flbmk = all_data.flbmk.map({'N':0,'Y':1})\n",
    "all_data.flg_3dsmk = all_data.flg_3dsmk.map({'N':0,'Y':1})\n",
    "all_data.loctm = all_data.loctm.astype(int)\n",
    "all_data = all_data.infer_objects()\n",
    "\n",
    "# print(all_data.dtypes)\n",
    "print('Missing value training data:\\n',train_data.isna().sum()[train_data.isna().sum()>0])\n",
    "print('Missing value testing data:\\n',test_data.isna().sum()[test_data.isna().sum()>0])\n",
    "\n",
    "## not neccessary to fill null value, since we use lgb model\n",
    "all_data.flbmk = all_data.flbmk.fillna(value=all_data.flbmk.mean(skipna=True))\n",
    "all_data.flg_3dsmk = all_data.flg_3dsmk.fillna(value=all_data.flg_3dsmk.mean(skipna=True))"
   ]
  },
  {
   "cell_type": "markdown",
   "metadata": {},
   "source": [
    "## Anomaly detection\n",
    "* one class svm\n",
    "* isolation tree\n",
    "* replicator NN\n",
    "* KNN(take too much time)"
   ]
  },
  {
   "cell_type": "code",
   "execution_count": 5,
   "metadata": {},
   "outputs": [
    {
     "name": "stdout",
     "output_type": "stream",
     "text": [
      "0.0\n"
     ]
    }
   ],
   "source": [
    "weird1 = (all_data['insfg']==1)&(all_data['iterm']==0)\n",
    "print(all_data[weird1]['fraud_ind'].sum())\n",
    "# print(weird1.value_counts())\n"
   ]
  },
  {
   "cell_type": "markdown",
   "metadata": {},
   "source": [
    "## Feature engineering\n",
    "* train & valid only"
   ]
  },
  {
   "cell_type": "code",
   "execution_count": 6,
   "metadata": {},
   "outputs": [
    {
     "name": "stdout",
     "output_type": "stream",
     "text": [
      " 102    1676085\n",
      " 38       56178\n",
      " 46       52779\n",
      " 104      43385\n",
      " 75       25418\n",
      " 20       23878\n",
      " 52       19866\n",
      "-1        14797\n",
      " 93        7012\n",
      " 44        5680\n",
      " 42        5483\n",
      " 27        3699\n",
      " 55        2887\n",
      " 92        2289\n",
      " 6         2025\n",
      "Name: stocn, dtype: int64\n",
      " 5817    930790\n",
      "-1       250174\n",
      " 0       182576\n",
      " 5820    109964\n",
      " 5800     59453\n",
      " 6580     52196\n",
      " 3588     51270\n",
      " 3460     48446\n",
      " 5858     41376\n",
      " 4526     29230\n",
      " 5803     25128\n",
      " 5812     25091\n",
      " 5859     21527\n",
      " 379      21002\n",
      " 3590     18560\n",
      " 3281     16960\n",
      " 2310     15775\n",
      " 1458     14154\n",
      " 2260     11675\n",
      " 4907      9501\n",
      "Name: scity, dtype: int64\n",
      " 62    1588534\n",
      " 0      225791\n",
      " 61      44847\n",
      " 13      23206\n",
      " 75      16296\n",
      " 26      15751\n",
      "-1       11351\n",
      " 71       9437\n",
      " 60       4221\n",
      " 4        2108\n",
      "Name: csmcu, dtype: int64\n"
     ]
    }
   ],
   "source": [
    "## transform large type category features\n",
    "## 將太多種category的feature bin cut\n",
    "\n",
    "# th=100\n",
    "# category_list = all_data['mchno'].value_counts()[:th].index\n",
    "# all_data2 = all_data.copy()\n",
    "# all_data2[~all_data['mchno'].isin(category_list)]=-1\n",
    "# print(all_data2['mchno'].value_counts()[:th])\n",
    "\n",
    "# th=100\n",
    "# category_list = all_data['acqic'].value_counts()[:th].index\n",
    "# all_data2 = all_data.copy()\n",
    "# all_data2[~all_data['acqic'].isin(category_list)]=-1\n",
    "# print(all_data2['acqic'].value_counts()[:th])\n",
    "\n",
    "# th=100\n",
    "# category_list = all_data['mcc'].value_counts()[:th].index\n",
    "# all_data2 = all_data.copy()\n",
    "# all_data2[~all_data['mcc'].isin(category_list)]=-1\n",
    "# print(all_data2['mcc'].value_counts()[:th])\n",
    "\n",
    "th=15\n",
    "category_list = all_data['stocn'].value_counts()[:th].index\n",
    "all_data2 = all_data.copy()\n",
    "all_data2[~all_data['stocn'].isin(category_list)]=-1\n",
    "print(all_data2['stocn'].value_counts()[:th])\n",
    "\n",
    "th=20\n",
    "category_list = all_data['scity'].value_counts()[:th].index\n",
    "all_data2 = all_data.copy()\n",
    "all_data2[~all_data['scity'].isin(category_list)]=-1\n",
    "print(all_data2['scity'].value_counts()[:th])\n",
    "\n",
    "th=10\n",
    "category_list = all_data['csmcu'].value_counts()[:th].index\n",
    "all_data2 = all_data.copy()\n",
    "all_data2[~all_data['csmcu'].isin(category_list)]=-1\n",
    "print(all_data2['csmcu'].value_counts()[:th])"
   ]
  },
  {
   "cell_type": "code",
   "execution_count": 7,
   "metadata": {},
   "outputs": [],
   "source": [
    "all_data['conam'] = np.log(all_data['conam']+1)\n",
    "all_data['iterm'] = all_data['iterm'].apply(lambda x:1 if x>0 else 0)\n",
    "\n",
    "all_data['locdt_week'] = all_data['locdt']%7+1\n",
    "# all_data['locdt_month'] = all_data['locdt']%30+1\n",
    "\n",
    "all_data['loctm_hr'] = all_data['loctm'].apply(lambda s:s//10000).astype(int)\n",
    "# all_data['loctm_hr2'] = all_data['loctm'].apply(lambda s:s//1000).astype(int)\n",
    "# all_data['loctm_hr_sin'] = all_data['loctm_hr'].apply(lambda s:math.sin(s/24*math.pi)).astype(int)\n",
    "# all_data['loctm_hr2_sin'] = all_data['loctm_hr2'].apply(lambda s:math.sin(s/240*math.pi)).astype(int)\n",
    "\n",
    "# mean_df = all_data.groupby(['bacno'])['cano'].nunique().reset_index()\n",
    "# mean_df.columns = ['bacno', 'cano'+'_count']\n",
    "# all_data = pd.merge(all_data, mean_df, on='bacno', how='left')\n",
    "\n",
    "mean_df = all_data.groupby(['bacno'])['txkey'].nunique().reset_index()\n",
    "mean_df.columns = ['bacno', 'txkey'+'_count']\n",
    "all_data = pd.merge(all_data, mean_df, on='bacno', how='left')\n",
    "\n",
    "mean_df = all_data.groupby(['bacno'])['loctm_hr'].mean().reset_index()\n",
    "mean_df.columns = ['bacno', 'loctm_hr'+'_mean']\n",
    "all_data = pd.merge(all_data, mean_df, on='bacno', how='left')\n",
    "\n",
    "mean_df = all_data.groupby(['bacno'])['loctm_hr'].var().reset_index()\n",
    "mean_df.columns = ['bacno', 'loctm_hr'+'_var']\n",
    "mean_df.fillna(value=-1,inplace=True)\n",
    "# print(mean_df.value_count)\n",
    "all_data = pd.merge(all_data, mean_df, on='bacno', how='left')\n"
   ]
  },
  {
   "cell_type": "code",
   "execution_count": 11,
   "metadata": {},
   "outputs": [
    {
     "name": "stdout",
     "output_type": "stream",
     "text": [
      "    acqic  bacno    cano     conam  contp  csmcu  ecfg  etymd  flbmk  \\\n",
      "0    6413      1  117264  6.841070      5     62     0      4    0.0   \n",
      "1    6189      1  117264  6.846082      5     62     1      2    0.0   \n",
      "2    6189      1  117264  7.145567      5     62     1      2    0.0   \n",
      "3    6231      1  117264  6.925959      5     62     0      5    0.0   \n",
      "4    6189      1  117264  6.421313      5     62     0      4    0.0   \n",
      "5    6189      1  117264  6.468878      5     62     0      4    0.0   \n",
      "6    6189      1  117264  6.471202      5     62     0      4    0.0   \n",
      "7    6189      1  117264  7.391748      5     62     1      2    0.0   \n",
      "8    6413      1  117264  6.862580      5     62     0      5    0.0   \n",
      "9    6413      1  117264  6.862580      5     62     1      2    0.0   \n",
      "10   6032      1  117264  6.755257      5     62     0      5    0.0   \n",
      "\n",
      "    flg_3dsmk      ...       ovrlt  scity  stocn  stscd    txkey  locdt_week  \\\n",
      "0         0.0      ...           0   5817    102      0  1549254           4   \n",
      "1         0.0      ...           0   1463    102      0  1837177           5   \n",
      "2         0.0      ...           0   1463    102      0  1859385           5   \n",
      "3         0.0      ...           0   5817    102      0   994333           3   \n",
      "4         0.0      ...           0   5817    102      0  1639576           7   \n",
      "5         0.0      ...           0   5817    102      0  1149335           2   \n",
      "6         0.0      ...           0   5817    102      0  1227066           5   \n",
      "7         0.0      ...           0   1463    102      0  1900543           1   \n",
      "8         0.0      ...           0   5817    102      0  1660525           6   \n",
      "9         1.0      ...           0    515    102      0  1905868           6   \n",
      "10        0.0      ...           0   5817    102      0   150552           3   \n",
      "\n",
      "    loctm_hr  txkey_count  loctm_hr_mean  loctm_hr_var  \n",
      "0         20           11      18.272727     14.218182  \n",
      "1         22           11      18.272727     14.218182  \n",
      "2         21           11      18.272727     14.218182  \n",
      "3         20           11      18.272727     14.218182  \n",
      "4         15           11      18.272727     14.218182  \n",
      "5         14           11      18.272727     14.218182  \n",
      "6         13           11      18.272727     14.218182  \n",
      "7         21           11      18.272727     14.218182  \n",
      "8         19           11      18.272727     14.218182  \n",
      "9         23           11      18.272727     14.218182  \n",
      "10        13           11      18.272727     14.218182  \n",
      "\n",
      "[11 rows x 28 columns]\n"
     ]
    }
   ],
   "source": [
    "\n",
    "print(all_data[all_data['bacno']==1])"
   ]
  },
  {
   "cell_type": "code",
   "execution_count": 9,
   "metadata": {},
   "outputs": [
    {
     "name": "stdout",
     "output_type": "stream",
     "text": [
      "5\n",
      "4\n",
      "3\n",
      "2\n",
      "1\n"
     ]
    }
   ],
   "source": [
    "for i in range(5,0,-1):\n",
    "    print(i)"
   ]
  },
  {
   "cell_type": "code",
   "execution_count": 13,
   "metadata": {},
   "outputs": [
    {
     "name": "stderr",
     "output_type": "stream",
     "text": [
      "/usr/local/lib/python3.5/dist-packages/ipykernel_launcher.py:23: SettingWithCopyWarning: \n",
      "A value is trying to be set on a copy of a slice from a DataFrame.\n",
      "Try using .loc[row_indexer,col_indexer] = value instead\n",
      "\n",
      "See the caveats in the documentation: http://pandas.pydata.org/pandas-docs/stable/indexing.html#indexing-view-versus-copy\n"
     ]
    },
    {
     "ename": "KeyboardInterrupt",
     "evalue": "",
     "output_type": "error",
     "traceback": [
      "\u001b[0;31m---------------------------------------------------------------------------\u001b[0m",
      "\u001b[0;31mKeyboardInterrupt\u001b[0m                         Traceback (most recent call last)",
      "\u001b[0;32m<ipython-input-13-3bb9f7c7f3c0>\u001b[0m in \u001b[0;36m<module>\u001b[0;34m\u001b[0m\n\u001b[1;32m     21\u001b[0m     \u001b[0;32mif\u001b[0m \u001b[0mcano_lastday_use\u001b[0m\u001b[0;34m.\u001b[0m\u001b[0miloc\u001b[0m\u001b[0;34m[\u001b[0m\u001b[0mi\u001b[0m\u001b[0;34m]\u001b[0m\u001b[0;34m[\u001b[0m\u001b[0;34m'cano_lastday'\u001b[0m\u001b[0;34m]\u001b[0m\u001b[0;34m!=\u001b[0m\u001b[0;34m-\u001b[0m\u001b[0;36m1\u001b[0m\u001b[0;34m:\u001b[0m\u001b[0;34m\u001b[0m\u001b[0m\n\u001b[1;32m     22\u001b[0m         all_data[(all_data['cano']==cano_lastday_use.iloc[i]['cano_first']) &\\\n\u001b[0;32m---> 23\u001b[0;31m                  (all_data['locdt']==cano_lastday_use.iloc[i]['cano_lastday'])]['cano_lastday_use']=1\n\u001b[0m\u001b[1;32m     24\u001b[0m \u001b[0;34m\u001b[0m\u001b[0m\n\u001b[1;32m     25\u001b[0m \u001b[0mprint\u001b[0m\u001b[0;34m(\u001b[0m\u001b[0mall_data\u001b[0m\u001b[0;34m[\u001b[0m\u001b[0;34m'cano_lastday_use'\u001b[0m\u001b[0;34m]\u001b[0m\u001b[0;34m)\u001b[0m\u001b[0;34m\u001b[0m\u001b[0m\n",
      "\u001b[0;32m/usr/local/lib/python3.5/dist-packages/pandas/core/ops.py\u001b[0m in \u001b[0;36mwrapper\u001b[0;34m(self, other, axis)\u001b[0m\n\u001b[1;32m   1281\u001b[0m \u001b[0;34m\u001b[0m\u001b[0m\n\u001b[1;32m   1282\u001b[0m             \u001b[0;32mwith\u001b[0m \u001b[0mnp\u001b[0m\u001b[0;34m.\u001b[0m\u001b[0merrstate\u001b[0m\u001b[0;34m(\u001b[0m\u001b[0mall\u001b[0m\u001b[0;34m=\u001b[0m\u001b[0;34m'ignore'\u001b[0m\u001b[0;34m)\u001b[0m\u001b[0;34m:\u001b[0m\u001b[0;34m\u001b[0m\u001b[0m\n\u001b[0;32m-> 1283\u001b[0;31m                 \u001b[0mres\u001b[0m \u001b[0;34m=\u001b[0m \u001b[0mna_op\u001b[0m\u001b[0;34m(\u001b[0m\u001b[0mvalues\u001b[0m\u001b[0;34m,\u001b[0m \u001b[0mother\u001b[0m\u001b[0;34m)\u001b[0m\u001b[0;34m\u001b[0m\u001b[0m\n\u001b[0m\u001b[1;32m   1284\u001b[0m             \u001b[0;32mif\u001b[0m \u001b[0mis_scalar\u001b[0m\u001b[0;34m(\u001b[0m\u001b[0mres\u001b[0m\u001b[0;34m)\u001b[0m\u001b[0;34m:\u001b[0m\u001b[0;34m\u001b[0m\u001b[0m\n\u001b[1;32m   1285\u001b[0m                 raise TypeError('Could not compare {typ} type with Series'\n",
      "\u001b[0;32m/usr/local/lib/python3.5/dist-packages/pandas/core/ops.py\u001b[0m in \u001b[0;36mna_op\u001b[0;34m(x, y)\u001b[0m\n\u001b[1;32m   1165\u001b[0m             \u001b[0;32mif\u001b[0m \u001b[0mmethod\u001b[0m \u001b[0;32mis\u001b[0m \u001b[0;32mnot\u001b[0m \u001b[0;32mNone\u001b[0m\u001b[0;34m:\u001b[0m\u001b[0;34m\u001b[0m\u001b[0m\n\u001b[1;32m   1166\u001b[0m                 \u001b[0;32mwith\u001b[0m \u001b[0mnp\u001b[0m\u001b[0;34m.\u001b[0m\u001b[0merrstate\u001b[0m\u001b[0;34m(\u001b[0m\u001b[0mall\u001b[0m\u001b[0;34m=\u001b[0m\u001b[0;34m'ignore'\u001b[0m\u001b[0;34m)\u001b[0m\u001b[0;34m:\u001b[0m\u001b[0;34m\u001b[0m\u001b[0m\n\u001b[0;32m-> 1167\u001b[0;31m                     \u001b[0mresult\u001b[0m \u001b[0;34m=\u001b[0m \u001b[0mmethod\u001b[0m\u001b[0;34m(\u001b[0m\u001b[0my\u001b[0m\u001b[0;34m)\u001b[0m\u001b[0;34m\u001b[0m\u001b[0m\n\u001b[0m\u001b[1;32m   1168\u001b[0m                 \u001b[0;32mif\u001b[0m \u001b[0mresult\u001b[0m \u001b[0;32mis\u001b[0m \u001b[0mNotImplemented\u001b[0m\u001b[0;34m:\u001b[0m\u001b[0;34m\u001b[0m\u001b[0m\n\u001b[1;32m   1169\u001b[0m                     \u001b[0;32mraise\u001b[0m \u001b[0mTypeError\u001b[0m\u001b[0;34m(\u001b[0m\u001b[0;34m\"invalid type comparison\"\u001b[0m\u001b[0;34m)\u001b[0m\u001b[0;34m\u001b[0m\u001b[0m\n",
      "\u001b[0;31mKeyboardInterrupt\u001b[0m: "
     ]
    }
   ],
   "source": [
    "## 第一次使用該卡片\n",
    "## 且不是在最後一天換卡片了！！！\n",
    "def lastday_cano(s):\n",
    "    cano_firstid = s['cano'].iloc[0]    \n",
    "    if s['cano'].iloc[-1]==cano_firstid:\n",
    "        return -1\n",
    "    \n",
    "    return s[s['cano']==cano_firstid]['locdt'].max()\n",
    "\n",
    "\n",
    "cano_firstid = all_data.groupby(['bacno'])['cano'].apply(lambda s: s.iloc[0]).reset_index()\n",
    "cano_lastday = all_data.groupby(['bacno']).apply(lastday_cano).reset_index()\n",
    "# print(cano_lastday)\n",
    "\n",
    "cano_lastday_use = pd.merge(cano_firstid, cano_lastday, on='bacno',how='left')\n",
    "cano_lastday_use.columns = ['bacno', 'cano_first', 'cano_lastday']\n",
    "\n",
    "all_data['cano_lastday_use']=0\n",
    "\n",
    "for i in range(cano_lastday_use.shape[0]):\n",
    "    if cano_lastday_use.iloc[i]['cano_lastday']!=-1:\n",
    "        all_data[(all_data['cano']==cano_lastday_use.iloc[i]['cano_first']) &\\\n",
    "                 (all_data['locdt']==cano_lastday_use.iloc[i]['cano_lastday'])]['cano_lastday_use']=1\n",
    "        \n",
    "print(all_data['cano_lastday_use']) \n",
    "# mean_df = all_data.groupby(['bacno'])['cano'].apply().reset_index()\n",
    "# mean_df.columns = ['bacno', 'cano'+'_last_day']\n",
    "# all_data = pd.merge(all_data, mean_df, on='bacno', how='left')"
   ]
  },
  {
   "cell_type": "code",
   "execution_count": null,
   "metadata": {},
   "outputs": [],
   "source": [
    "# for i in range(500):\n",
    "#     print(i,all_data.groupby(['bacno']).get_group(i)[['ecfg','fraud_ind']])\n",
    "# mean_df = all_data.groupby(['bacno'])['fraud_ind'].mean().reset_index()\n",
    "# mean_df.columns = ['bacno', 'loctm_hr'+'_mean']\n",
    "# all_data = pd.merge(all_data, mean_df, on='bacno', how='left')\n",
    "\n",
    "# print(all_data[['bacno','locdt','loctm']])\n",
    "\n",
    "# 該交易的歸戶帳號是否曾經被盜刷 0->沒 1->有 -1->無紀錄\n",
    "\n",
    "\n",
    "# 該交易的歸戶帳號是否曾經被盜刷卻又復原\n",
    "# 該交易的歸戶帳號是否第一次刷卡\n",
    "# 該交易的歸戶帳號第幾次刷卡\n",
    "\n",
    "# 該交易的卡號是否曾經被盜刷\n",
    "# 該交易的卡號是否曾經被盜刷卻又復原\n",
    "# 該交易的卡號是否第一次刷卡\n",
    "# 該交易的卡號第幾次刷卡\n",
    "\n",
    "# mean_df = all_data.groupby(['bacno']).apply(lambda s:s.mode()).reset_index()\n",
    "# mean_df.columns = ['bacno', 'stocn'+'_mode']\n",
    "# mean_df.fillna(-1,inplace=True)\n",
    "# print(mean_df.stocn_mode.value_counts())\n",
    "# all_data = pd.merge(all_data, mean_df, on='bacno', how='left')\n",
    "\n",
    "# 消費國別是否跟自己所有消費的眾數不一樣\n",
    "# 消費城市是否跟自己所有消費的眾數不一樣\n",
    "# 消費地幣別是否跟自己所有消費的眾數不一樣\n",
    "# 支付型態是否跟自己所有消費的眾數不一樣\n",
    "# 分期期數是否跟自己所有消費的眾數不一樣\n",
    "\n",
    "# 是否第一次網路消費且過去有非網路消費的經驗\n",
    "\n"
   ]
  },
  {
   "cell_type": "code",
   "execution_count": null,
   "metadata": {},
   "outputs": [],
   "source": [
    "# data = pd.concat([df[:train_num], train_Y], axis=1)\n",
    "# for c in df.columns:\n",
    "#     mean_df = data.groupby([c])['SalePrice'].mean().reset_index()\n",
    "#     mean_df.columns = [c, f'{c}_mean']\n",
    "#     data = pd.merge(data, mean_df, on=c, how='left')\n",
    "#     data = data.drop([c] , axis=1)\n",
    "\n",
    "\n",
    "# all_data['howmany_cano'] = \n",
    "# all_data['howmany_txkey'] = \n",
    "\n",
    "## bacno刷卡頻率分佈\n",
    "\n",
    "# all_data['fraud_before'] =\n",
    "# all_data['fraud_last_time'] =\n",
    "\n",
    "# 印出某個被盜刷的人的刷卡使用時間分佈\n"
   ]
  },
  {
   "cell_type": "markdown",
   "metadata": {},
   "source": [
    "## EDA(觀察資料分佈, 找Idea）"
   ]
  },
  {
   "cell_type": "code",
   "execution_count": null,
   "metadata": {},
   "outputs": [],
   "source": [
    "delete_list = ['bacno','locdt','loctm','cano','fraud_ind','iterm']\n",
    "\n",
    "#txkey大小, cano可能會重複所以重要？\n",
    "\n",
    "delete_list = ['bacno','locdt','loctm','fraud_ind']\n",
    "\n",
    "binary_list=['ecfg','insfg','ovrlt','flbmk','flg_3dsmk']\n",
    "category_list=['contp','etymd','hcefg','stocn','scity','stscd','csmcu']"
   ]
  },
  {
   "cell_type": "markdown",
   "metadata": {},
   "source": [
    "## Parse train,valid"
   ]
  },
  {
   "cell_type": "code",
   "execution_count": null,
   "metadata": {},
   "outputs": [],
   "source": [
    "X_train = all_data[all_data['locdt']<=60].drop(columns=delete_list)\n",
    "y_train = all_data[all_data['locdt']<=60]['fraud_ind']\n",
    "X_test = all_data[(all_data['locdt']>60) & (all_data['locdt']<=90)].drop(columns=delete_list)\n",
    "y_test = all_data[(all_data['locdt']>60) & (all_data['locdt']<=90)]['fraud_ind']\n",
    "\n",
    "# all_train = all_data[all_data['locdt']<=90]\n",
    "# all_test = all_data[all_data['locdt']<=90]['fraud_ind']\n",
    "# test_data = all_data[all_data['locdt']>90]"
   ]
  },
  {
   "cell_type": "markdown",
   "metadata": {},
   "source": [
    "## 觀測 train, validation, test的distribution\n",
    "* 跟fraud_ind相關的，檢查train和validation就好（假設test data跟validation類似）\n",
    "* 每筆feature的distribution，檢查train,validation和test\n"
   ]
  },
  {
   "cell_type": "code",
   "execution_count": null,
   "metadata": {},
   "outputs": [],
   "source": [
    "def analze_distribution(data, target_col, feature, data_test):\n",
    "#     if data[feature].nunique()!=data_test[feature].nunique():\n",
    "#         print('data nunique not the same')\n",
    "    print(feature)\n",
    "    mean_data = data.groupby(feature)[target_col].mean()\n",
    "    mean_data_test = data_test.groupby(feature)[target_col].mean()\n",
    "    distribution_data = data[feature].value_counts(dropna=False)\n",
    "    distribution_data_test = data_test[feature].value_counts(dropna=False)\n",
    "    \n",
    "    fig, axs = plt.subplots(2,2,figsize=(10,5))\n",
    "    axs[0,0].plot(mean_data.index, mean_data.values, marker='o')\n",
    "    axs[0,0].set_title('Average {} wrt {}'.format(target_col,feature))\n",
    "    axs[0,0].set_ylabel('mean of {}'.format(target_col))\n",
    "    axs[0,0].set_xlabel(feature)\n",
    "    \n",
    "    \n",
    "    bins = data[feature].nunique() if data[feature].nunique()<100 else 100\n",
    "    data[feature].hist(bins=bins,ax=axs[0,1])\n",
    "\n",
    "#     axs[0,1].bar(distribution_data.index, distribution_data.values, alpha=0.5)\n",
    "    axs[0,1].set_title('distribution of {}'.format(feature))\n",
    "    axs[0,1].set_ylabel('count of {}'.format(feature))\n",
    "    axs[0,1].set_xlabel(feature)\n",
    "    \n",
    "    # Add text in figure coordinates\n",
    "    plt.figtext(0.5, 1,   'Train data plot', ha='center', va='center', fontsize=15)\n",
    "    plt.figtext(0.5, 0.5, 'Test data plot', ha='center', va='center', fontsize=15)\n",
    "    axs[1,0].plot(mean_data_test.index, mean_data_test.values, marker='o')\n",
    "    axs[1,0].set_title('Average {} wrt {}'.format(target_col,feature))\n",
    "    axs[1,0].set_ylabel('mean of {}'.format(target_col))\n",
    "    axs[1,0].set_xlabel(feature)\n",
    "    \n",
    "    bins = data_test[feature].nunique() if data_test[feature].nunique()<100 else 100\n",
    "    data_test[feature].hist(bins=bins,ax=axs[1,1])\n",
    "#     axs[1,1].bar(distribution_data_test.index, distribution_data_test.values, alpha=0.5)\n",
    "    distribution_data_test.hist\n",
    "    axs[1,1].set_title('distribution of {}'.format(feature))\n",
    "    axs[1,1].set_ylabel('count of {}'.format(feature))\n",
    "    axs[1,1].set_xlabel(feature)\n",
    "    plt.tight_layout(pad=3)\n"
   ]
  },
  {
   "cell_type": "code",
   "execution_count": null,
   "metadata": {},
   "outputs": [],
   "source": [
    "train_d =pd.concat([X_train,y_train],axis=1)\n",
    "valid_d =pd.concat([X_test,y_test],axis=1)\n",
    "# 自己做的圖表function，畵資料分佈的bar chart和對fraud_ind的關係\n",
    "for c in train_d.columns:\n",
    "    analze_distribution(train_d,'fraud_ind',c,valid_d)\n",
    "\n",
    "# print(train_d.csmcu.value_counts())\n",
    "# print(valid_d.csmcu.value_counts())\n",
    "\n",
    "from featexp import get_univariate_plots\n",
    "# get_univariate_plots(data=train_d, target_col='fraud_ind', features_list=['hcefg'], bins=100, data_test=valid_d)\n",
    "# get_univariate_plots(data=train_d, target_col='fraud_ind', features_list=['loctm_hr'], bins=10, data_test=valid_d)\n",
    "# get_univariate_plots(data=train_d, target_col='fraud_ind', features_list=['flg_3dsmk'], bins=10, data_test=valid_d)\n",
    "# get_univariate_plots(data=train_d, target_col='fraud_ind', features_list=['csmcu'], bins=100, data_test=valid_d)"
   ]
  },
  {
   "cell_type": "markdown",
   "metadata": {},
   "source": [
    "## 檢查train和test data的分佈有哪裡不一樣"
   ]
  },
  {
   "cell_type": "code",
   "execution_count": null,
   "metadata": {},
   "outputs": [],
   "source": [
    "def compare_distribution(train_data,test_data,target_name):\n",
    "    target = train_data[target_name]\n",
    "    target2 = test_data[target_name]\n",
    "    print(target_name)\n",
    "    print('nunique train',target.nunique())\n",
    "    print('nunique test',target2.nunique())\n",
    "    print('max train',target.max())\n",
    "    print('max test',target2.max())\n",
    "\n",
    "    fig, axs = plt.subplots(1,2,figsize=(10,3))\n",
    "    \n",
    "    bins = target.nunique() if target.nunique()<100 else 100\n",
    "    target.hist(bins=bins,ax=axs[0])\n",
    "    \n",
    "    bins = target2.nunique() if target2.nunique()<100 else 100\n",
    "    target2.hist(bins=bins,ax=axs[1])\n",
    "    plt.show()\n",
    "\n",
    "\n",
    "for c in all_data.drop(columns='fraud_ind'):\n",
    "    compare_distribution(all_data[all_data['locdt']<=90].drop(columns='fraud_ind'),all_data[all_data['locdt']>90].drop(columns='fraud_ind'),c)"
   ]
  },
  {
   "cell_type": "markdown",
   "metadata": {},
   "source": [
    "## fraud資料和normal資料的各個特徵差異"
   ]
  },
  {
   "cell_type": "code",
   "execution_count": null,
   "metadata": {},
   "outputs": [],
   "source": [
    "normal_data = all_data[all_data['fraud_ind']==0]\n",
    "fraud_data = all_data[all_data['fraud_ind']==1]\n",
    "\n",
    "for c in normal_data.columns:\n",
    "    print(c)\n",
    "    plt.clf()\n",
    "    fig, axs = plt.subplots(1,2,figsize=(10,3))\n",
    "\n",
    "    bins = normal_data[c].nunique() if normal_data[c].nunique()<100 else 100\n",
    "    normal_data[c].hist(bins=bins,ax=axs[0])\n",
    "    axs[0].set_title('Normal data')\n",
    "    bins = fraud_data[c].nunique() if fraud_data[c].nunique()<100 else 100\n",
    "    fraud_data[c].hist(bins=bins,ax=axs[1])\n",
    "    axs[1].set_title('Fraud data')\n",
    "    plt.show()\n"
   ]
  },
  {
   "cell_type": "markdown",
   "metadata": {},
   "source": [
    "##### PCA on fraud data in some person"
   ]
  },
  {
   "cell_type": "code",
   "execution_count": null,
   "metadata": {},
   "outputs": [],
   "source": [
    "from sklearn.decomposition import PCA\n",
    "def PCA_plot(x,label):\n",
    "    ## 應該先轉dummy,標準化,再PCA\n",
    "    dummy_list=['contp','etymd','stscd','hcefg']\n",
    "    dummy_list2=['stocn','scity','csmcu']#'mchno','acqic','mcc',\n",
    "    x[dummy_list] = x[dummy_list].astype(object)\n",
    "    x[dummy_list2] = x[dummy_list2].astype(object)\n",
    "    x = pd.get_dummies(x).drop(columns=['mchno','acqic'])    \n",
    "    \n",
    "    from sklearn.preprocessing import StandardScaler \n",
    "    stdsc = StandardScaler() \n",
    "    x = stdsc.fit_transform(x)\n",
    "    print(x.shape,label.sum())\n",
    "\n",
    "    PCA_model = PCA(n_components=2)\n",
    "    train_data_pca = PCA_model.fit_transform(x)\n",
    "    train_data_pca1 = train_data_pca[label==1]\n",
    "    train_data_pca0 = train_data_pca[label==0]\n",
    "    \n",
    "    plt.clf()\n",
    "    plt.figure(figsize=(10,10))\n",
    "    plt.scatter(train_data_pca1[:, 0], train_data_pca1[:, 1], c='r',label='fraud transaction',s=100)\n",
    "    plt.scatter(train_data_pca0[:, 0], train_data_pca0[:, 1], c='b',label='normal transaction',s=3)\n",
    "    plt.legend()\n",
    "    plt.show()\n",
    "    \n",
    "bacno_hasfraud = all_data[all_data['fraud_ind']==1]['bacno'].unique()\n",
    "print(bacno_hasfraud.shape[0])\n",
    "print(all_data[all_data['fraud_ind']==1].shape[0])\n",
    "\n",
    "for i in range(bacno_hasfraud.shape[0]):\n",
    "    if all_data[all_data['bacno']==bacno_hasfraud[i]].shape[0]>300:\n",
    "        print('Ploting PCA on bacno-{}'.format(bacno_hasfraud[i]))\n",
    "        PCA_plot(all_data[all_data['bacno']==bacno_hasfraud[i]].drop(columns=delete_list),all_data[all_data['bacno']==bacno_hasfraud[i]]['fraud_ind'])\n",
    "\n",
    "## TSNE, Kmeans作圖?"
   ]
  },
  {
   "cell_type": "markdown",
   "metadata": {},
   "source": [
    "## 觀察large category的feature是否有很多種bacno的fraud"
   ]
  },
  {
   "cell_type": "code",
   "execution_count": null,
   "metadata": {
    "scrolled": true
   },
   "outputs": [],
   "source": [
    "mchno_bacno_count = all_data.groupby('mchno').apply(lambda s:s[s['fraud_ind']==1]['bacno'].nunique())\n",
    "acqic_bacno_count = all_data.groupby('acqic').apply(lambda s:s[s['fraud_ind']==1]['bacno'].nunique())\n",
    "mcc_bacno_count = all_data.groupby('mcc').apply(lambda s:s[s['fraud_ind']==1]['bacno'].nunique())"
   ]
  },
  {
   "cell_type": "code",
   "execution_count": null,
   "metadata": {},
   "outputs": [],
   "source": [
    "print(mchno_bacno_count.sum())\n",
    "print(mchno_bacno_count[mchno_bacno_count>1].sort_values())\n",
    "\n",
    "print(acqic_bacno_count.sum())\n",
    "print(acqic_bacno_count[acqic_bacno_count>1].sort_values())\n",
    "\n",
    "print(mcc_bacno_count.sum())\n",
    "print(mcc_bacno_count[mcc_bacno_count>1].sort_values())"
   ]
  },
  {
   "cell_type": "markdown",
   "metadata": {},
   "source": [
    "## 以每個bacno來看fraud情況"
   ]
  },
  {
   "cell_type": "code",
   "execution_count": null,
   "metadata": {},
   "outputs": [],
   "source": [
    "bacno_fraud_count = all_data.groupby('bacno').apply(lambda s:s[s['fraud_ind']==1]['bacno'].shape[0])"
   ]
  },
  {
   "cell_type": "code",
   "execution_count": null,
   "metadata": {},
   "outputs": [],
   "source": [
    "print('All fraud instance',all_data.fraud_ind.sum(skipna=True))\n",
    "print('{} different bacno'.format(bacno_fraud_count[bacno_fraud_count>0].shape[0]))\n",
    "\n",
    "bacno_fraud_count[(bacno_fraud_count<10)&(bacno_fraud_count>0)].hist(bins=9)\n",
    "plt.show()\n",
    "plt.clf()\n",
    "bacno_fraud_count[(bacno_fraud_count>0)].hist(bins=100)\n"
   ]
  },
  {
   "cell_type": "code",
   "execution_count": null,
   "metadata": {},
   "outputs": [],
   "source": [
    "list1=['locdt','cano','etymd','mchno','acqic','mcc','stocn','conam','fraud_ind']\n",
    "list2=['locdt','conam','ecfg','insfg','iterm','stscd','ovrlt','hcefg','fraud_ind']\n",
    "\n",
    "\n",
    "bacno_10fraud_more_list = bacno_fraud_count[(bacno_fraud_count==1)].index\n",
    "pd.set_option('display.max_rows', 1000)\n",
    "# print(x)\n",
    "# pd.reset_option('display.max_rows')\n",
    "\n",
    "for b in bacno_10fraud_more_list:\n",
    "    print()\n",
    "    \n",
    "    print(b,all_data[all_data['bacno']==b]['fraud_ind'].sum())\n",
    "    print(all_data[all_data['bacno']==b][list1].sort_values(by=['locdt']))"
   ]
  },
  {
   "cell_type": "code",
   "execution_count": null,
   "metadata": {},
   "outputs": [],
   "source": [
    "## important!\n",
    "\n",
    "bacno_10fraud_more_list = bacno_fraud_count[(bacno_fraud_count>10)].index\n",
    "pd.set_option('display.max_rows', 1000)\n",
    "# print(x)\n",
    "# pd.reset_option('display.max_rows')\n",
    "\n",
    "for b in bacno_10fraud_more_list:\n",
    "    print()\n",
    "    \n",
    "    print(b,all_data[all_data['bacno']==b]['fraud_ind'].sum())\n",
    "    print(all_data[all_data['bacno']==b][['locdt','cano','contp','etymd','mchno','acqic','mcc','stocn','fraud_ind']].sort_values(by=['locdt']))"
   ]
  },
  {
   "cell_type": "markdown",
   "metadata": {},
   "source": [
    "曾經在該國被盜刷的紀錄\n",
    "曾經在該mchno被盜刷的紀錄\n",
    "曾經在該mchno被盜刷\n",
    "最後一筆是不是盜刷\n"
   ]
  },
  {
   "cell_type": "code",
   "execution_count": null,
   "metadata": {},
   "outputs": [],
   "source": [
    "bacno_list_train = all_data[all_data['locdt']<=90]['bacno'].unique()\n",
    "bacno_list_test = all_data[all_data['locdt']>90]['bacno'].unique()\n",
    "\n",
    "print(bacno_list_train.shape[0])\n",
    "print(bacno_list_test.shape[0])\n",
    "\n",
    "bacno_new_test=[]\n",
    "for b in bacno_list_test:\n",
    "    if b not in bacno_list_train:\n",
    "        bacno_new_test.append(b)\n",
    "\n",
    "## 幾乎所有在test data的都是新用戶 乾\n",
    "## 所以重點特徵工程不能使用用戶過去的fraud記錄\n",
    "print(len(bacno_new_test))\n",
    "# print(all_data[all_data['bacno']==bacno_new_test[100]]['locdt'])\n"
   ]
  },
  {
   "cell_type": "code",
   "execution_count": null,
   "metadata": {},
   "outputs": [],
   "source": [
    "bacno_list_train = all_data[all_data['locdt']<=90]['bacno'].unique()\n",
    "bacno_list_test = all_data[all_data['locdt']>90]['bacno'].unique()\n",
    "\n",
    "print(bacno_list_train.shape[0])\n",
    "print(bacno_list_test.shape[0])\n",
    "\n",
    "bacno_new_test=[]\n",
    "for b in bacno_list_test:\n",
    "    if b not in bacno_list_train:\n",
    "        bacno_new_test.append(b)\n",
    "\n",
    "## 幾乎所有在test data的都是新用戶 乾\n",
    "## 所以重點特徵工程不能使用用戶過去的fraud記錄\n",
    "print(len(bacno_new_test))\n",
    "# print(all_data[all_data['bacno']==bacno_new_test[100]]['locdt'])\n"
   ]
  },
  {
   "cell_type": "code",
   "execution_count": null,
   "metadata": {},
   "outputs": [],
   "source": []
  },
  {
   "cell_type": "code",
   "execution_count": null,
   "metadata": {},
   "outputs": [],
   "source": []
  },
  {
   "cell_type": "code",
   "execution_count": null,
   "metadata": {},
   "outputs": [],
   "source": []
  },
  {
   "cell_type": "code",
   "execution_count": null,
   "metadata": {},
   "outputs": [],
   "source": [
    "## 感覺txkey跟其他特徵都沒什麼關係？\n",
    "print(np.corrcoef(all_data['txkey'],all_data['locdt']))"
   ]
  },
  {
   "cell_type": "markdown",
   "metadata": {},
   "source": [
    "## 製作特徵\n",
    "XGB, PCA, Isolation Forest, Kmean距離？, oneclass SVM?\n",
    "當作新feature"
   ]
  },
  {
   "cell_type": "markdown",
   "metadata": {},
   "source": [
    "## Isolation Forest"
   ]
  },
  {
   "cell_type": "code",
   "execution_count": null,
   "metadata": {},
   "outputs": [],
   "source": [
    "from sklearn.ensemble import IsolationForest\n",
    "\n",
    "c_ratio = y_train.sum()/y_train.shape[0]\n",
    "# fit the model\n",
    "clf = IsolationForest(behaviour='new', max_samples=0.8, max_features=1,\n",
    "                      random_state=1, contamination=c_ratio)\n",
    "clf.fit(X_train)"
   ]
  },
  {
   "cell_type": "code",
   "execution_count": null,
   "metadata": {
    "scrolled": true
   },
   "outputs": [],
   "source": [
    "y_pred_train = clf.predict(X_train)\n",
    "y_pred_test = clf.predict(X_test)\n",
    "\n",
    "y_pred_test2 = -y_pred_test\n",
    "y_pred_test2[y_pred_test2==-1]=0\n",
    "y_pred_test2.sum()\n",
    "\n",
    "y_pred_train2 = -y_pred_train\n",
    "y_pred_train2[y_pred_train2==-1]=0\n",
    "y_pred_train2.sum()\n",
    "\n",
    "from sklearn.metrics import f1_score\n",
    "print(f1_score(y_train, y_pred_train2))\n",
    "print(f1_score(y_test, y_pred_test2))"
   ]
  },
  {
   "cell_type": "markdown",
   "metadata": {},
   "source": [
    "## Train on LGB(未調參數)"
   ]
  },
  {
   "cell_type": "code",
   "execution_count": null,
   "metadata": {},
   "outputs": [],
   "source": [
    "random_seed = 33\n",
    "\n",
    "print(X_train.shape)\n",
    "print(y_train.sum()/y_train.shape[0])\n",
    "print(y_test.sum()/y_test.shape[0])\n",
    "\n",
    "\n",
    "import lightgbm as lgb\n",
    "from lightgbm.sklearn import LGBMClassifier\n",
    "from sklearn.metrics import f1_score\n",
    "def lgb_f1_score(y_true, y_pred):\n",
    "    y_pred = np.round(y_pred) # scikits f1 doesn't like probabilities\n",
    "    return 'f1', f1_score(y_true, y_pred), True\n",
    "\n",
    "param_dist_lgb = {\n",
    "                  'num_leaves':45, \n",
    "#                   'max_depth':5, \n",
    "                  'learning_rate':0.1, \n",
    "                  'n_estimators':3500,\n",
    "                  'objective': 'binary',\n",
    "#                   'subsample': 1, \n",
    "#                   'colsample_bytree': 0.5, \n",
    "                  'lambda_l1': 0.1,\n",
    "#                   'lambda_l2': 0,\n",
    "#                   'min_child_weight': 1,\n",
    "                  'random_state': random_seed,\n",
    "                 }\n",
    "evals_result = {}\n",
    "\n",
    "lgb_clf = LGBMClassifier(**param_dist_lgb)\n",
    "lgb_clf.fit(X_train, y_train,\n",
    "        eval_set=[(X_train, y_train),(X_test, y_test)],\n",
    "        eval_metric=lgb_f1_score,\n",
    "        early_stopping_rounds=600,\n",
    "        verbose=True,\n",
    "        callbacks=[lgb.record_evaluation(evals_result)]\n",
    "        )\n",
    "\n",
    "print('F1',f1_score(y_test, lgb_clf.predict(X_test)))"
   ]
  },
  {
   "cell_type": "code",
   "execution_count": null,
   "metadata": {},
   "outputs": [],
   "source": [
    "print('Plotting metrics recorded during training...')\n",
    "ax = lgb.plot_metric(evals_result, metric='f1')\n",
    "plt.show()\n",
    "\n",
    "print('Plotting feature importances...')\n",
    "ax = lgb.plot_importance(lgb_clf, max_num_features=10)\n",
    "plt.show()\n",
    "\n",
    "print('Plotting 4th tree...')  # one tree use categorical feature to split\n",
    "ax = lgb.plot_tree(lgb_clf, tree_index=3, figsize=(15, 15), show_info=['split_gain'])\n",
    "plt.show()\n",
    "\n",
    "print('Plotting 4th tree with graphviz...')\n",
    "graph = lgb.create_tree_digraph(lgb_clf, tree_index=3, name='Tree4')\n",
    "graph.render(view=True)"
   ]
  },
  {
   "cell_type": "markdown",
   "metadata": {},
   "source": [
    "## write csv"
   ]
  },
  {
   "cell_type": "code",
   "execution_count": null,
   "metadata": {},
   "outputs": [],
   "source": [
    "# lgb_clf = LGBMClassifier(**param_dist_lgb)\n",
    "# lgb_clf.fit(train_data,label_data)\n",
    "\n",
    "# result = lgb_clf.predict(test_data)\n",
    "# print(result.sum())\n",
    "# print(result.sum()/result.shape[0])\n",
    "# print(label_data.sum()/label_data.shape[0])\n",
    "\n",
    "# test_data_txkey = test_data['txkey'].copy()\n",
    "\n",
    "# import csv\n",
    "# with open('../prediction/submit_lgb.csv','w') as f:\n",
    "#     writer = csv.writer(f)\n",
    "#     writer.writerow(['txkey','fraud_ind'])\n",
    "#     for i in range(result.shape[0]):\n",
    "#         writer.writerow([test_data_txkey[i], result[i]])"
   ]
  }
 ],
 "metadata": {
  "kernelspec": {
   "display_name": "Python 3",
   "language": "python",
   "name": "python3"
  },
  "language_info": {
   "codemirror_mode": {
    "name": "ipython",
    "version": 3
   },
   "file_extension": ".py",
   "mimetype": "text/x-python",
   "name": "python",
   "nbconvert_exporter": "python",
   "pygments_lexer": "ipython3",
   "version": "3.5.2"
  }
 },
 "nbformat": 4,
 "nbformat_minor": 2
}
