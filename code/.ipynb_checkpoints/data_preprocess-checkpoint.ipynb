{
 "cells": [
  {
   "cell_type": "code",
   "execution_count": 1,
   "metadata": {},
   "outputs": [],
   "source": [
    "import pandas as pd\n",
    "import os\n",
    "import matplotlib.pyplot as plt\n",
    "import numpy as np\n",
    "\n",
    "%matplotlib inline\n",
    "data_path = '../data'"
   ]
  },
  {
   "cell_type": "code",
   "execution_count": 2,
   "metadata": {},
   "outputs": [
    {
     "name": "stdout",
     "output_type": "stream",
     "text": [
      "(1521787, 23)\n",
      "(421665, 22)\n",
      "(1943452, 22)\n"
     ]
    }
   ],
   "source": [
    "train_data_path = os.path.join(data_path,'train.zip')\n",
    "train_data = pd.read_csv(train_data_path, encoding = \"big5\")\n",
    "\n",
    "test_data_path = os.path.join(data_path,'test.zip')\n",
    "test_data = pd.read_csv(test_data_path, encoding = \"big5\")\n",
    "\n",
    "label_data = train_data['fraud_ind'].copy()\n",
    "train_data_num = train_data.shape[0]\n",
    "\n",
    "all_data = pd.concat([train_data.drop(columns='fraud_ind'),test_data],axis=0)\n",
    "print(train_data.shape)\n",
    "print(test_data.shape)\n",
    "print(all_data.shape)"
   ]
  },
  {
   "cell_type": "code",
   "execution_count": 3,
   "metadata": {
    "scrolled": true
   },
   "outputs": [
    {
     "data": {
      "text/html": [
       "<div>\n",
       "<style scoped>\n",
       "    .dataframe tbody tr th:only-of-type {\n",
       "        vertical-align: middle;\n",
       "    }\n",
       "\n",
       "    .dataframe tbody tr th {\n",
       "        vertical-align: top;\n",
       "    }\n",
       "\n",
       "    .dataframe thead th {\n",
       "        text-align: right;\n",
       "    }\n",
       "</style>\n",
       "<table border=\"1\" class=\"dataframe\">\n",
       "  <thead>\n",
       "    <tr style=\"text-align: right;\">\n",
       "      <th></th>\n",
       "      <th>acqic</th>\n",
       "      <th>bacno</th>\n",
       "      <th>cano</th>\n",
       "      <th>conam</th>\n",
       "      <th>contp</th>\n",
       "      <th>csmcu</th>\n",
       "      <th>ecfg</th>\n",
       "      <th>etymd</th>\n",
       "      <th>flbmk</th>\n",
       "      <th>flg_3dsmk</th>\n",
       "      <th>...</th>\n",
       "      <th>iterm</th>\n",
       "      <th>locdt</th>\n",
       "      <th>loctm</th>\n",
       "      <th>mcc</th>\n",
       "      <th>mchno</th>\n",
       "      <th>ovrlt</th>\n",
       "      <th>scity</th>\n",
       "      <th>stocn</th>\n",
       "      <th>stscd</th>\n",
       "      <th>txkey</th>\n",
       "    </tr>\n",
       "  </thead>\n",
       "  <tbody>\n",
       "    <tr>\n",
       "      <th>0</th>\n",
       "      <td>6881</td>\n",
       "      <td>113261</td>\n",
       "      <td>38038</td>\n",
       "      <td>513.80</td>\n",
       "      <td>5</td>\n",
       "      <td>0</td>\n",
       "      <td>N</td>\n",
       "      <td>0</td>\n",
       "      <td>N</td>\n",
       "      <td>N</td>\n",
       "      <td>...</td>\n",
       "      <td>0</td>\n",
       "      <td>33</td>\n",
       "      <td>172652.0</td>\n",
       "      <td>457</td>\n",
       "      <td>59333</td>\n",
       "      <td>N</td>\n",
       "      <td>0</td>\n",
       "      <td>102</td>\n",
       "      <td>0</td>\n",
       "      <td>516056</td>\n",
       "    </tr>\n",
       "    <tr>\n",
       "      <th>1</th>\n",
       "      <td>0</td>\n",
       "      <td>134508</td>\n",
       "      <td>45725</td>\n",
       "      <td>465.62</td>\n",
       "      <td>5</td>\n",
       "      <td>0</td>\n",
       "      <td>N</td>\n",
       "      <td>2</td>\n",
       "      <td>N</td>\n",
       "      <td>N</td>\n",
       "      <td>...</td>\n",
       "      <td>0</td>\n",
       "      <td>9</td>\n",
       "      <td>105114.0</td>\n",
       "      <td>451</td>\n",
       "      <td>0</td>\n",
       "      <td>N</td>\n",
       "      <td>5817</td>\n",
       "      <td>102</td>\n",
       "      <td>0</td>\n",
       "      <td>4376</td>\n",
       "    </tr>\n",
       "    <tr>\n",
       "      <th>2</th>\n",
       "      <td>6881</td>\n",
       "      <td>15408</td>\n",
       "      <td>188328</td>\n",
       "      <td>513.80</td>\n",
       "      <td>5</td>\n",
       "      <td>0</td>\n",
       "      <td>N</td>\n",
       "      <td>0</td>\n",
       "      <td>N</td>\n",
       "      <td>N</td>\n",
       "      <td>...</td>\n",
       "      <td>0</td>\n",
       "      <td>6</td>\n",
       "      <td>152458.0</td>\n",
       "      <td>457</td>\n",
       "      <td>59333</td>\n",
       "      <td>N</td>\n",
       "      <td>0</td>\n",
       "      <td>102</td>\n",
       "      <td>0</td>\n",
       "      <td>483434</td>\n",
       "    </tr>\n",
       "    <tr>\n",
       "      <th>3</th>\n",
       "      <td>6716</td>\n",
       "      <td>157159</td>\n",
       "      <td>29967</td>\n",
       "      <td>1016.11</td>\n",
       "      <td>5</td>\n",
       "      <td>62</td>\n",
       "      <td>N</td>\n",
       "      <td>5</td>\n",
       "      <td>N</td>\n",
       "      <td>N</td>\n",
       "      <td>...</td>\n",
       "      <td>0</td>\n",
       "      <td>5</td>\n",
       "      <td>172946.0</td>\n",
       "      <td>247</td>\n",
       "      <td>50436</td>\n",
       "      <td>N</td>\n",
       "      <td>3281</td>\n",
       "      <td>102</td>\n",
       "      <td>0</td>\n",
       "      <td>1407164</td>\n",
       "    </tr>\n",
       "    <tr>\n",
       "      <th>4</th>\n",
       "      <td>5975</td>\n",
       "      <td>105985</td>\n",
       "      <td>81305</td>\n",
       "      <td>713.66</td>\n",
       "      <td>5</td>\n",
       "      <td>62</td>\n",
       "      <td>N</td>\n",
       "      <td>4</td>\n",
       "      <td>N</td>\n",
       "      <td>N</td>\n",
       "      <td>...</td>\n",
       "      <td>0</td>\n",
       "      <td>6</td>\n",
       "      <td>182129.0</td>\n",
       "      <td>263</td>\n",
       "      <td>93775</td>\n",
       "      <td>N</td>\n",
       "      <td>5817</td>\n",
       "      <td>102</td>\n",
       "      <td>0</td>\n",
       "      <td>1051004</td>\n",
       "    </tr>\n",
       "  </tbody>\n",
       "</table>\n",
       "<p>5 rows × 23 columns</p>\n",
       "</div>"
      ],
      "text/plain": [
       "   acqic   bacno    cano    conam  contp  csmcu ecfg  etymd flbmk flg_3dsmk  \\\n",
       "0   6881  113261   38038   513.80      5      0    N      0     N         N   \n",
       "1      0  134508   45725   465.62      5      0    N      2     N         N   \n",
       "2   6881   15408  188328   513.80      5      0    N      0     N         N   \n",
       "3   6716  157159   29967  1016.11      5     62    N      5     N         N   \n",
       "4   5975  105985   81305   713.66      5     62    N      4     N         N   \n",
       "\n",
       "    ...     iterm  locdt     loctm  mcc  mchno  ovrlt  scity  stocn stscd  \\\n",
       "0   ...         0     33  172652.0  457  59333      N      0    102     0   \n",
       "1   ...         0      9  105114.0  451      0      N   5817    102     0   \n",
       "2   ...         0      6  152458.0  457  59333      N      0    102     0   \n",
       "3   ...         0      5  172946.0  247  50436      N   3281    102     0   \n",
       "4   ...         0      6  182129.0  263  93775      N   5817    102     0   \n",
       "\n",
       "     txkey  \n",
       "0   516056  \n",
       "1     4376  \n",
       "2   483434  \n",
       "3  1407164  \n",
       "4  1051004  \n",
       "\n",
       "[5 rows x 23 columns]"
      ]
     },
     "execution_count": 3,
     "metadata": {},
     "output_type": "execute_result"
    }
   ],
   "source": [
    "train_data.head()"
   ]
  },
  {
   "cell_type": "code",
   "execution_count": 4,
   "metadata": {},
   "outputs": [
    {
     "name": "stdout",
     "output_type": "stream",
     "text": [
      "Missing value:\n",
      " flbmk        12581\n",
      "flg_3dsmk    12581\n",
      "dtype: int64\n",
      "Missing value:\n",
      " flbmk        3715\n",
      "flg_3dsmk    3715\n",
      "dtype: int64\n"
     ]
    },
    {
     "data": {
      "image/png": "[encoded data removed]",
      "text/plain": [
       "<Figure size 432x288 with 2 Axes>"
      ]
     },
     "metadata": {
      "needs_background": "light"
     },
     "output_type": "display_data"
    }
   ],
   "source": [
    "print('Missing value:\\n',train_data.isna().sum()[train_data.isna().sum()>0])\n",
    "print('Missing value:\\n',test_data.isna().sum()[test_data.isna().sum()>0])\n",
    "\n",
    "plt.clf()\n",
    "\n",
    "ax1=plt.subplot(2, 2, 1)\n",
    "ax1.plot(train_data.flg_3dsmk.index,train_data.flg_3dsmk.isna())\n",
    "ax1.set_title('train_data flg_3dsmk')\n",
    "\n",
    "ax2=plt.subplot(2, 2, 2)\n",
    "ax2.set_title('train_data flbmk')\n",
    "ax2.plot(train_data.flbmk.index,train_data.flbmk.isna())\n",
    "\n",
    "# ax3=plt.subplot(2, 2, 3)\n",
    "# ax3.plot(test_data.flg_3dsmk.index,test_data.flg_3dsmk.isna())\n",
    "# ax3.set_title('test_data flg_3dsmk')\n",
    "\n",
    "# ax4=plt.subplot(2, 2, 4)\n",
    "# ax4.set_title('test_data flbmk')\n",
    "# ax4.plot(test_data.flbmk.index,test_data.flbmk.isna())\n",
    "plt.show()\n"
   ]
  },
  {
   "cell_type": "code",
   "execution_count": null,
   "metadata": {},
   "outputs": [],
   "source": [
    "all_data.ecfg = all_data.ecfg.map({'N':0,'Y':1})\n",
    "all_data.ovrlt = all_data.ovrlt.map({'N':0,'Y':1})\n",
    "all_data.flbmk = all_data.flbmk.map({'N':0,'Y':1})\n",
    "all_data.flg_3dsmk = all_data.flg_3dsmk.map({'N':0,'Y':1})"
   ]
  },
  {
   "cell_type": "code",
   "execution_count": null,
   "metadata": {},
   "outputs": [],
   "source": [
    "all_data.flbmk = all_data.flbmk.fillna(value=all_data.flbmk.mean(skipna=True))\n",
    "all_data.flg_3dsmk = all_data.flg_3dsmk.fillna(value=all_data.flg_3dsmk.mean(skipna=True))\n",
    "all_data = all_data.infer_objects()\n",
    "\n",
    "print(all_data.isna().sum())\n",
    "print(all_data.dtypes)"
   ]
  },
  {
   "cell_type": "code",
   "execution_count": null,
   "metadata": {},
   "outputs": [],
   "source": []
  },
  {
   "cell_type": "code",
   "execution_count": null,
   "metadata": {},
   "outputs": [],
   "source": []
  },
  {
   "cell_type": "code",
   "execution_count": null,
   "metadata": {},
   "outputs": [],
   "source": []
  },
  {
   "cell_type": "code",
   "execution_count": null,
   "metadata": {},
   "outputs": [],
   "source": [
    "target = train_data.bacno\n",
    "\n",
    "print(target.nunique())\n",
    "print(target.max())\n",
    "print(target.value_counts())\n",
    "target.hist(bins=10)"
   ]
  },
  {
   "cell_type": "code",
   "execution_count": null,
   "metadata": {},
   "outputs": [],
   "source": [
    "target = train_data.txkey\n",
    "\n",
    "print(target.nunique())\n",
    "print(target.max())\n",
    "print(target.value_counts())\n",
    "target.hist(bins=100)"
   ]
  },
  {
   "cell_type": "code",
   "execution_count": null,
   "metadata": {},
   "outputs": [],
   "source": [
    "target = train_data.locdt\n",
    "\n",
    "print(target.nunique())\n",
    "print(target.max())\n",
    "print(target.value_counts())\n",
    "target.hist(bins=target.nunique())"
   ]
  },
  {
   "cell_type": "code",
   "execution_count": null,
   "metadata": {},
   "outputs": [],
   "source": [
    "target = train_data.loctm \n",
    "\n",
    "print(target.nunique())\n",
    "print(target.max())\n",
    "print(target.value_counts())\n",
    "target.hist(bins=1000)"
   ]
  },
  {
   "cell_type": "code",
   "execution_count": null,
   "metadata": {},
   "outputs": [],
   "source": [
    "target = train_data.cano \n",
    "\n",
    "print(target.nunique())\n",
    "print(target.max())\n",
    "print(target.value_counts())\n",
    "target.hist(bins=1000)"
   ]
  },
  {
   "cell_type": "code",
   "execution_count": null,
   "metadata": {},
   "outputs": [],
   "source": [
    "target = train_data.contp \n",
    "\n",
    "print(target.nunique())\n",
    "print(target.max())\n",
    "print(target.value_counts())\n",
    "target.hist(bins=target.nunique())"
   ]
  },
  {
   "cell_type": "code",
   "execution_count": null,
   "metadata": {},
   "outputs": [],
   "source": [
    "target = train_data.etymd \n",
    "\n",
    "print(target.nunique())\n",
    "print(target.max())\n",
    "print(target.value_counts())\n",
    "target.hist(bins=target.nunique())\n"
   ]
  },
  {
   "cell_type": "code",
   "execution_count": null,
   "metadata": {},
   "outputs": [],
   "source": [
    "target = train_data.mchno \n",
    "\n",
    "print(target.nunique())\n",
    "print(target.max())\n",
    "print(target.value_counts())\n",
    "target.hist(bins=1000)\n"
   ]
  },
  {
   "cell_type": "code",
   "execution_count": null,
   "metadata": {},
   "outputs": [],
   "source": [
    "target = train_data.acqic  \n",
    "\n",
    "print(target.nunique())\n",
    "print(target.max())\n",
    "print(target.value_counts())\n",
    "target.hist(bins=1000)\n"
   ]
  },
  {
   "cell_type": "code",
   "execution_count": null,
   "metadata": {},
   "outputs": [],
   "source": [
    "target = train_data.mcc   \n",
    "\n",
    "print(target.nunique())\n",
    "print(target.max())\n",
    "print(target.value_counts())\n",
    "target.hist(bins=100)\n"
   ]
  },
  {
   "cell_type": "code",
   "execution_count": null,
   "metadata": {},
   "outputs": [],
   "source": [
    "target = np.log(train_data.conam+1)\n",
    "\n",
    "print(target.nunique())\n",
    "print(target.max())\n",
    "print(target.value_counts())\n",
    "target.hist(bins=100)\n",
    "\n",
    "train_data['conam'] = np.log(train_data['conam']+1)"
   ]
  },
  {
   "cell_type": "code",
   "execution_count": null,
   "metadata": {},
   "outputs": [],
   "source": [
    "target = train_data.ecfg\n",
    "\n",
    "print(target.nunique())\n",
    "print(target.max())\n",
    "print(target.value_counts())\n",
    "\n",
    "target.hist(bins=2)\n"
   ]
  },
  {
   "cell_type": "code",
   "execution_count": null,
   "metadata": {},
   "outputs": [],
   "source": [
    "target = train_data.insfg.map({'N':0,'Y':1})\n",
    "\n",
    "print(target.nunique())\n",
    "print(target.max())\n",
    "print(target.value_counts())\n",
    "\n",
    "target.hist(bins=100)\n",
    "train_data.insfg = train_data.insfg.map({'N':0,'Y':1})\n"
   ]
  },
  {
   "cell_type": "code",
   "execution_count": null,
   "metadata": {},
   "outputs": [],
   "source": [
    "target = train_data.iterm\n",
    "\n",
    "print(target.nunique())\n",
    "print(target.max())\n",
    "print(target.value_counts())\n",
    "\n",
    "target.hist(bins=target.nunique())"
   ]
  },
  {
   "cell_type": "code",
   "execution_count": null,
   "metadata": {},
   "outputs": [],
   "source": [
    "target = train_data.stocn\n",
    "\n",
    "print(target.nunique())\n",
    "print(target.max())\n",
    "print(target.value_counts())\n",
    "\n",
    "target.hist(bins=target.nunique())"
   ]
  },
  {
   "cell_type": "code",
   "execution_count": null,
   "metadata": {},
   "outputs": [],
   "source": []
  },
  {
   "cell_type": "code",
   "execution_count": null,
   "metadata": {},
   "outputs": [],
   "source": []
  }
 ],
 "metadata": {
  "kernelspec": {
   "display_name": "Python 3",
   "language": "python",
   "name": "python3"
  },
  "language_info": {
   "codemirror_mode": {
    "name": "ipython",
    "version": 3
   },
   "file_extension": ".py",
   "mimetype": "text/x-python",
   "name": "python",
   "nbconvert_exporter": "python",
   "pygments_lexer": "ipython3",
   "version": "3.5.2"
  }
 },
 "nbformat": 4,
 "nbformat_minor": 2
}
