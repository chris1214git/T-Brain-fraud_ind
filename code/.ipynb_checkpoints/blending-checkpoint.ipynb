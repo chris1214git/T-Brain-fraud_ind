{
 "cells": [
  {
   "cell_type": "code",
   "execution_count": 8,
   "metadata": {},
   "outputs": [],
   "source": [
    "import pandas as pd\n",
    "import os\n",
    "import numpy as np"
   ]
  },
  {
   "cell_type": "code",
   "execution_count": 22,
   "metadata": {},
   "outputs": [],
   "source": [
    "submit_file_path = '../prediction/submit/'\n",
    "file_path = os.path.join(submit_file_path,'submit_add_X_test_select_th09_AN7_time1116_1200')\n",
    "file_path2 = os.path.join(submit_file_path,'submit_add_06_time1115_1329_origin')\n",
    "\n",
    "file_path = os.path.join(submit_file_path,'submit_add_X_test_select_th90_AN11_time1121_1322')\n",
    "# sample_file = pd.read_csv(os.path.join(submit_file_path,'submit_cat_time1025115.csv'))\n",
    "ths = [0.1,0.11,0.13,0.15,0.17,0.21,0.23,0.25,0.27,0.29]\n",
    "# ths = [0.31,0.33,0.35,0.37]"
   ]
  },
  {
   "cell_type": "code",
   "execution_count": 23,
   "metadata": {
    "scrolled": true
   },
   "outputs": [
    {
     "name": "stdout",
     "output_type": "stream",
     "text": [
      "0.13 6684.0\n",
      "0.21 6119.0\n",
      "0.23 6003.0\n",
      "0.25 5919.0\n",
      "0.27 5841.0\n",
      "0.29 5765.0\n"
     ]
    }
   ],
   "source": [
    "def set_thresholds(file_path,ths):\n",
    "    file = pd.read_csv(file_path+'.csv')\n",
    "    result = file.fraud_ind.values\n",
    "    for th in ths:\n",
    "        file2 = file.copy()\n",
    "        p_id = result>=(th)\n",
    "        n_id = result<(th)\n",
    "        file2.loc[p_id,'fraud_ind']=1\n",
    "        file2.loc[n_id,'fraud_ind']=0\n",
    "        print(th,file2.fraud_ind.sum())\n",
    "        file2.to_csv('{}_th{}.csv'.format(file_path,int(th*100)),index=False)  \n",
    "    \n",
    "set_thresholds(file_path,ths)"
   ]
  },
  {
   "cell_type": "code",
   "execution_count": null,
   "metadata": {},
   "outputs": [],
   "source": [
    "def set_threshold(result,th):\n",
    "    result2 = result.copy()\n",
    "    p_id = result>=(th)\n",
    "    n_id = result<(th)\n",
    "    result2[p_id] = 1\n",
    "    result2[n_id] = 0\n",
    " \n",
    "    return result2"
   ]
  },
  {
   "cell_type": "code",
   "execution_count": null,
   "metadata": {},
   "outputs": [],
   "source": [
    "def blending(results):\n",
    "    results = np.array(results)\n",
    "    results = np.sum(results,axis=0)\n",
    "    results[results>=0.5]=1\n",
    "    results[results<0.5]=0\n",
    "    print(results.sum())\n",
    "    return results    \n",
    "\n",
    "\n",
    "results=[]\n",
    "result = pd.read_csv(file_path+'.csv')\n",
    "result2 = pd.read_csv(file_path2+'.csv')\n",
    "results.append(set_threshold(result.fraud_ind,0.27))\n",
    "results.append(set_threshold(result2.fraud_ind,0.27))\n",
    "\n",
    "results = blending(results)\n",
    "sample_file.fraud_ind = results\n",
    "sample_file.to_csv('../prediction/submit/blend_test.csv')"
   ]
  },
  {
   "cell_type": "code",
   "execution_count": 9,
   "metadata": {},
   "outputs": [],
   "source": [
    "def set_threshold(result,th):\n",
    "    result2 = result.copy()\n",
    "    p_id = result>=(th)\n",
    "    n_id = result<(th)\n",
    "    result2[p_id] = 1\n",
    "    result2[n_id] = 0 \n",
    "    print(np.sum(result2))\n",
    "    return result2\n",
    "\n",
    "def write_file(results,submit_file_name):\n",
    "    sample_file = pd.read_csv(os.path.join(submit_file_path,'submit_cat_time1025115.csv'))\n",
    "    sample_file.fraud_ind = results\n",
    "    sample_file.to_csv('../prediction/submit/'+submit_file_name+'.csv')"
   ]
  },
  {
   "cell_type": "code",
   "execution_count": 16,
   "metadata": {},
   "outputs": [
    {
     "name": "stdout",
     "output_type": "stream",
     "text": [
      "(421665,)\n",
      "[1.49422157e-05 2.07336617e-05 8.85680598e-06 ... 1.13522513e-04\n",
      " 1.30167513e-06 1.12271065e-05]\n",
      "6208.0\n"
     ]
    }
   ],
   "source": [
    "th=0.28\n",
    "results = []\n",
    "files=['submit_add_X_test_select_th90_AN7_time1118_0904','submit_add_06_time1115_1448_origin']\n",
    "for f in files:\n",
    "    results.append(pd.read_csv(file_path+'.csv').fraud_ind)\n",
    "    \n",
    "results = np.average(np.array(results),axis=0)\n",
    "print(results.shape)\n",
    "print(results)\n",
    "results = set_threshold(results,th)\n",
    "write_file(results,'blend_test2_th{}'.format(int(100*th)))"
   ]
  },
  {
   "cell_type": "code",
   "execution_count": null,
   "metadata": {},
   "outputs": [],
   "source": []
  }
 ],
 "metadata": {
  "kernelspec": {
   "display_name": "Python 3",
   "language": "python",
   "name": "python3"
  },
  "language_info": {
   "codemirror_mode": {
    "name": "ipython",
    "version": 3
   },
   "file_extension": ".py",
   "mimetype": "text/x-python",
   "name": "python",
   "nbconvert_exporter": "python",
   "pygments_lexer": "ipython3",
   "version": "3.6.7"
  }
 },
 "nbformat": 4,
 "nbformat_minor": 2
}
