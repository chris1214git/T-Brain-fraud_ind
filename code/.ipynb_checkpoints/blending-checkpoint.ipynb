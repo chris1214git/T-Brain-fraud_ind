{
 "cells": [
  {
   "cell_type": "code",
   "execution_count": 5,
   "metadata": {},
   "outputs": [],
   "source": [
    "import pandas as pd\n",
    "import os\n",
    "import numpy as np"
   ]
  },
  {
   "cell_type": "code",
   "execution_count": 19,
   "metadata": {},
   "outputs": [],
   "source": [
    "submit_file_path = '../prediction/submit/'\n",
    "file_path = os.path.join(submit_file_path,'submit_add_06_time1115_1329_origin')\n",
    "file_path2 = os.path.join(submit_file_path,'submit_add_06_time1115_1448_origin')\n",
    "sample_file = pd.read_csv(os.path.join(submit_file_path,'submit_cat_time1025115.csv'))\n",
    "ths = [0.25,0.27,0.29,0.31,0.33]"
   ]
  },
  {
   "cell_type": "code",
   "execution_count": 14,
   "metadata": {
    "scrolled": true
   },
   "outputs": [
    {
     "name": "stdout",
     "output_type": "stream",
     "text": [
      "6567.0 0.015573974600690122\n",
      "6417.0 0.015218241969335846\n",
      "6298.0 0.014936027415128124\n",
      "6160.0 0.01460875339428219\n",
      "6061.0 0.01437396985758837\n"
     ]
    }
   ],
   "source": [
    "def set_thresholds(file_path,ths):\n",
    "    file = pd.read_csv(file_path+'.csv')\n",
    "    result = file.fraud_ind.values\n",
    "    for th in ths:\n",
    "        file2 = file.copy()\n",
    "        p_id = result>=(th)\n",
    "        n_id = result<(th)\n",
    "        file2.loc[p_id,'fraud_ind']=1\n",
    "        file2.loc[n_id,'fraud_ind']=0\n",
    "        print(file2.fraud_ind.sum(),file2.fraud_ind.sum()/file2.shape[0])\n",
    "        file2.to_csv('{}_th{}.csv'.format(file_path,th),index=False)  \n",
    "    \n",
    "set_threshold(file_path,ths)"
   ]
  },
  {
   "cell_type": "code",
   "execution_count": 16,
   "metadata": {},
   "outputs": [],
   "source": [
    "def set_threshold(result,th):\n",
    "    result2 = result.copy()\n",
    "    p_id = result>=(th)\n",
    "    n_id = result<(th)\n",
    "    result2[p_id] = 1\n",
    "    result2[n_id] = 0\n",
    " \n",
    "    return result2"
   ]
  },
  {
   "cell_type": "code",
   "execution_count": 20,
   "metadata": {},
   "outputs": [
    {
     "name": "stdout",
     "output_type": "stream",
     "text": [
      "(2, 421665)\n",
      "(421665,)\n"
     ]
    }
   ],
   "source": [
    "def blending(results):\n",
    "    results = np.array(results)\n",
    "    results = np.sum(results,axis=0)\n",
    "    results[results>=0.5]=1\n",
    "    results[results<0.5]=0\n",
    "    print(results.sum())\n",
    "    return results    \n",
    "    \n",
    "results=[]\n",
    "result = pd.read_csv(file_path+'.csv')\n",
    "result2 = pd.read_csv(file_path2+'.csv')\n",
    "results.append(set_threshold(result.fraud_ind,0.27))\n",
    "results.append(set_threshold(result2.fraud_ind,0.27))\n",
    "\n",
    "results = blending(results)\n",
    "sample_file.fraud_ind = results\n",
    "sample_file.to_csv('')"
   ]
  },
  {
   "cell_type": "code",
   "execution_count": null,
   "metadata": {},
   "outputs": [],
   "source": []
  }
 ],
 "metadata": {
  "kernelspec": {
   "display_name": "Python 3",
   "language": "python",
   "name": "python3"
  },
  "language_info": {
   "codemirror_mode": {
    "name": "ipython",
    "version": 3
   },
   "file_extension": ".py",
   "mimetype": "text/x-python",
   "name": "python",
   "nbconvert_exporter": "python",
   "pygments_lexer": "ipython3",
   "version": "3.6.7"
  }
 },
 "nbformat": 4,
 "nbformat_minor": 2
}
