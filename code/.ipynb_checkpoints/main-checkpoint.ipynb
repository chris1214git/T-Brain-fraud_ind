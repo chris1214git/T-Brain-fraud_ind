{
 "cells": [
  {
   "cell_type": "markdown",
   "metadata": {},
   "source": [
    "# [玉山人工智慧公開挑戰賽2019秋季賽,真相只有一個 -『信用卡盜刷偵測』](https://tbrain.trendmicro.com.tw/Competitions/Details/10)\n",
    "\n",
    "## <font color=red>任務:預測某刷卡交易是否為盜刷</font>\n",
    "\n",
    "### Task Schedule:\n",
    "1. 讀取資料,將字串轉換成int\n",
    "2. EDA(exploratory data analysis)\n",
    "3. Feature engineering\n",
    "4. 訓練模型,調整參數(預計使用lgb，速度較快)\n",
    "5. 嘗試使用不同模型,做Ensamble(blending, stacking)\n",
    "6. Anomaly detection\n",
    "\n",
    "### 注意事項:\n",
    "1. 因為test data和train data時間不相關,在驗證時採取前60天訓練61~90天驗證,但仍需小心時間差異造成的影響\n",
    "\n",
    "### TODO:\n",
    "1. **EDA(見下方詳細解釋）,找出不適合作為training feature的特徵,加以轉化成高級特徵或刪除**\n",
    "2. **找data leakage**\n",
    "\n",
    "3. Anomaly detection: 看這類的模型能不能取代lgb(似乎是不行，盜刷數據並沒有那麼Anomaly）,但可以嘗試將Anomaly結果當成新feature\n",
    "\n",
    "### <font color=green>Results:</font>\n",
    "* 不做處理,直接丟lgb訓練 leaderboard score:0.45\n"
   ]
  },
  {
   "cell_type": "markdown",
   "metadata": {},
   "source": [
    "## 讀取,轉換字串成可以訓練的資料"
   ]
  },
  {
   "cell_type": "code",
   "execution_count": null,
   "metadata": {},
   "outputs": [],
   "source": [
    "import pandas as pd\n",
    "import os\n",
    "import matplotlib.pyplot as plt\n",
    "import numpy as np\n",
    "import math\n",
    "\n",
    "%matplotlib inline\n",
    "data_path = '../data'\n",
    "\n",
    "random_seed = 33"
   ]
  },
  {
   "cell_type": "code",
   "execution_count": null,
   "metadata": {},
   "outputs": [],
   "source": [
    "train_data_path = os.path.join(data_path,'train.zip')\n",
    "train_data = pd.read_csv(train_data_path, encoding = \"big5\")\n",
    "\n",
    "test_data_path = os.path.join(data_path,'test.zip')\n",
    "test_data = pd.read_csv(test_data_path, encoding = \"big5\")\n",
    "\n",
    "train_data_num = train_data.shape[0]\n",
    "test_data_txkey = test_data['txkey'].copy()\n",
    "\n",
    "train_data = train_data.sort_values(by=['bacno','locdt','loctm']).reset_index(drop=True)\n",
    "label_data = train_data['fraud_ind'].copy()\n",
    "\n",
    "all_data = pd.concat([train_data,test_data],axis=0).reset_index(drop=True)\n",
    "print(all_data.index)\n",
    "print(train_data.shape)\n",
    "print(test_data.shape)\n",
    "print(all_data.shape)"
   ]
  },
  {
   "cell_type": "code",
   "execution_count": null,
   "metadata": {
    "scrolled": false
   },
   "outputs": [],
   "source": [
    "train_data.head()"
   ]
  },
  {
   "cell_type": "code",
   "execution_count": null,
   "metadata": {},
   "outputs": [],
   "source": [
    "all_data.ecfg = all_data.ecfg.map({'N':0,'Y':1})\n",
    "all_data.ovrlt = all_data.ovrlt.map({'N':0,'Y':1})\n",
    "all_data.insfg = all_data.insfg.map({'N':0,'Y':1})\n",
    "all_data.flbmk = all_data.flbmk.map({'N':0,'Y':1})\n",
    "all_data.flg_3dsmk = all_data.flg_3dsmk.map({'N':0,'Y':1})\n",
    "all_data.loctm = all_data.loctm.astype(int)\n",
    "all_data = all_data.infer_objects()\n",
    "\n",
    "# print(all_data.dtypes)\n",
    "print('Missing value training data:\\n',train_data.isna().sum()[train_data.isna().sum()>0])\n",
    "print('Missing value testing data:\\n',test_data.isna().sum()[test_data.isna().sum()>0])\n",
    "\n",
    "## not neccessary to fill null value, since we use lgb model\n",
    "all_data.flbmk = all_data.flbmk.fillna(value=all_data.flbmk.mean(skipna=True))\n",
    "all_data.flg_3dsmk = all_data.flg_3dsmk.fillna(value=all_data.flg_3dsmk.mean(skipna=True))"
   ]
  },
  {
   "cell_type": "markdown",
   "metadata": {},
   "source": [
    "## Dirty Data"
   ]
  },
  {
   "cell_type": "code",
   "execution_count": null,
   "metadata": {},
   "outputs": [],
   "source": [
    "weird1 = (all_data['insfg']==1)&(all_data['iterm']==0)\n",
    "print(weird1.value_counts())\n",
    "print(all_data[weird1]['fraud_ind'].sum())"
   ]
  },
  {
   "cell_type": "markdown",
   "metadata": {},
   "source": [
    "## Feature engineering\n",
    "* train & valid only（先不考慮test data)"
   ]
  },
  {
   "cell_type": "code",
   "execution_count": null,
   "metadata": {},
   "outputs": [],
   "source": [
    "## transform large type category features 轉換有大量類別的特徵\n",
    "## 第一種轉法: bin cut,只留下數量最多的類別,將資料數少的類別都分成同一類,\n",
    "## 第二轉種法: 根據fraud_ind的bacno數量,決定要留下哪些類別,剩下的分成同一類(要仔細觀察train和valid的關係,避免overfitting)\n",
    "\n",
    "# th=100\n",
    "# category_list = all_data['mchno'].value_counts()[:th].index\n",
    "# all_data2 = all_data.copy()\n",
    "# all_data2[~all_data['mchno'].isin(category_list)]=-1\n",
    "# print(all_data2['mchno'].value_counts()[:th])\n",
    "\n",
    "# th=100\n",
    "# category_list = all_data['acqic'].value_counts()[:th].index\n",
    "# all_data2 = all_data.copy()\n",
    "# all_data2[~all_data['acqic'].isin(category_list)]=-1\n",
    "# print(all_data2['acqic'].value_counts()[:th])\n",
    "\n",
    "# th=100\n",
    "# category_list = all_data['mcc'].value_counts()[:th].index\n",
    "# all_data2 = all_data.copy()\n",
    "# all_data2[~all_data['mcc'].isin(category_list)]=-1\n",
    "# print(all_data2['mcc'].value_counts()[:th])\n",
    "\n",
    "th=15\n",
    "category_list = all_data['stocn'].value_counts()[:th].index\n",
    "all_data2 = all_data.copy()\n",
    "all_data2[~all_data['stocn'].isin(category_list)]=-1\n",
    "print(all_data2['stocn'].value_counts()[:th])\n",
    "\n",
    "th=20\n",
    "category_list = all_data['scity'].value_counts()[:th].index\n",
    "all_data2 = all_data.copy()\n",
    "all_data2[~all_data['scity'].isin(category_list)]=-1\n",
    "print(all_data2['scity'].value_counts()[:th])\n",
    "\n",
    "th=10\n",
    "category_list = all_data['csmcu'].value_counts()[:th].index\n",
    "all_data2 = all_data.copy()\n",
    "all_data2[~all_data['csmcu'].isin(category_list)]=-1\n",
    "print(all_data2['csmcu'].value_counts()[:th])"
   ]
  },
  {
   "cell_type": "code",
   "execution_count": null,
   "metadata": {},
   "outputs": [],
   "source": [
    "all_data['conam'] = np.log(all_data['conam']+1)\n",
    "all_data['iterm'] = all_data['iterm'].apply(lambda x:1 if x>0 else 0)\n",
    "\n",
    "all_data['locdt_week'] = all_data['locdt']%7+1\n",
    "# all_data['locdt_month'] = all_data['locdt']%30+1\n",
    "\n",
    "all_data['loctm_hr'] = all_data['loctm'].apply(lambda s:s//10000).astype(int)\n",
    "# all_data['loctm_hr2'] = all_data['loctm'].apply(lambda s:s//1000).astype(int)\n",
    "# all_data['loctm_hr_sin'] = all_data['loctm_hr'].apply(lambda s:math.sin(s/24*math.pi)).astype(int)\n",
    "# all_data['loctm_hr2_sin'] = all_data['loctm_hr2'].apply(lambda s:math.sin(s/240*math.pi)).astype(int)\n",
    "\n",
    "\n",
    "mean_df = all_data.groupby(['bacno'])['cano'].nunique().reset_index()\n",
    "mean_df.columns = ['bacno', 'cano'+'_only1']\n",
    "mean_df[mean_df['cano_not1']>1]=0\n",
    "all_data = pd.merge(all_data, mean_df, on='bacno', how='left')\n",
    "\n",
    "mean_df = all_data.groupby(['bacno'])['txkey'].nunique().reset_index()\n",
    "mean_df.columns = ['bacno', 'txkey'+'_count']\n",
    "all_data = pd.merge(all_data, mean_df, on='bacno', how='left')\n",
    "\n",
    "mean_df = all_data.groupby(['bacno'])['loctm_hr'].mean().reset_index()\n",
    "mean_df.columns = ['bacno', 'loctm_hr'+'_mean']\n",
    "all_data = pd.merge(all_data, mean_df, on='bacno', how='left')\n",
    "\n",
    "mean_df = all_data.groupby(['bacno'])['loctm_hr'].var().reset_index()\n",
    "mean_df.columns = ['bacno', 'loctm_hr'+'_var']\n",
    "mean_df.fillna(value=-1,inplace=True)\n",
    "# print(mean_df.value_count)\n",
    "all_data = pd.merge(all_data, mean_df, on='bacno', how='left')\n"
   ]
  },
  {
   "cell_type": "code",
   "execution_count": null,
   "metadata": {
    "scrolled": true
   },
   "outputs": [],
   "source": [
    "## DataFrame merge測試\n",
    "for i in range(5,0,-1):\n",
    "    print(i)\n",
    "    \n",
    "x = pd.DataFrame([1,1,3],columns=['a'])\n",
    "x['b']=[1,1,2]\n",
    "\n",
    "y = pd.DataFrame([1,1],columns=['a'])\n",
    "y['b']=[1,1]\n",
    "y['c']=[2,3]\n",
    "\n",
    "print(x)\n",
    "print(y)\n",
    "print(pd.merge(x,y,on=['a','b'],how='left'))"
   ]
  },
  {
   "cell_type": "code",
   "execution_count": null,
   "metadata": {},
   "outputs": [],
   "source": [
    "## 某用戶第一次使用該卡片，且最後一天並不是使用該卡片，將最後一天使用該卡片的交易給值1，其餘0\n",
    "## 用merge會比for迴圈快很多\n",
    "def lastday_cano(s):\n",
    "    cano_firstid = s['cano'].iloc[0]    \n",
    "    if s['cano'].iloc[-1]==cano_firstid:\n",
    "        return -1\n",
    "    \n",
    "    return s[s['cano']==cano_firstid]['locdt'].max()\n",
    "\n",
    "\n",
    "cano_firstid = all_data.groupby(['bacno'])['cano'].apply(lambda s: s.iloc[0]).reset_index()\n",
    "cano_lastday = all_data.groupby(['bacno']).apply(lastday_cano).reset_index()\n",
    "# print(cano_lastday)\n",
    "\n",
    "cano_lastday_use = pd.merge(cano_firstid, cano_lastday, on='bacno',how='left')\n",
    "cano_lastday_use.columns = ['bacno', 'cano', 'locdt']\n",
    "cano_lastday_use['cano_lastday_use']=cano_lastday_use['locdt']!=-1\n",
    "\n",
    "all_data = pd.merge(all_data,cano_lastday_use,on=['bacno','cano','locdt'], how='left')\n",
    "all_data['cano_lastday_use'] = all_data['cano_lastday_use'].fillna(value=False)\n",
    "\n",
    "print(cano_lastday_use['cano_lastday_use'].sum())\n",
    "print(all_data['cano_lastday_use'].value_counts())"
   ]
  },
  {
   "cell_type": "code",
   "execution_count": null,
   "metadata": {},
   "outputs": [],
   "source": [
    "# for i in range(500):\n",
    "#     print(i,all_data.groupby(['bacno']).get_group(i)[['ecfg','fraud_ind']])\n",
    "# mean_df = all_data.groupby(['bacno'])['fraud_ind'].mean().reset_index()\n",
    "# mean_df.columns = ['bacno', 'loctm_hr'+'_mean']\n",
    "# all_data = pd.merge(all_data, mean_df, on='bacno', how='left')\n",
    "\n",
    "# print(all_data[['bacno','locdt','loctm']])\n",
    "\n",
    "# 該交易的歸戶帳號是否曾經被盜刷 0->沒 1->有 -1->無紀錄\n",
    "\n",
    "\n",
    "# 該交易的歸戶帳號是否曾經被盜刷卻又復原\n",
    "# 該交易的歸戶帳號是否第一次刷卡\n",
    "# 該交易的歸戶帳號第幾次刷卡\n",
    "\n",
    "# 該交易的卡號是否曾經被盜刷\n",
    "# 該交易的卡號是否曾經被盜刷卻又復原\n",
    "# 該交易的卡號是否第一次刷卡\n",
    "# 該交易的卡號第幾次刷卡\n",
    "\n",
    "# mean_df = all_data.groupby(['bacno']).apply(lambda s:s.mode()).reset_index()\n",
    "# mean_df.columns = ['bacno', 'stocn'+'_mode']\n",
    "# mean_df.fillna(-1,inplace=True)\n",
    "# print(mean_df.stocn_mode.value_counts())\n",
    "# all_data = pd.merge(all_data, mean_df, on='bacno', how='left')\n",
    "\n",
    "# 消費國別是否跟自己所有消費的眾數不一樣\n",
    "# 消費城市是否跟自己所有消費的眾數不一樣\n",
    "# 消費地幣別是否跟自己所有消費的眾數不一樣\n",
    "# 支付型態是否跟自己所有消費的眾數不一樣\n",
    "# 分期期數是否跟自己所有消費的眾數不一樣\n",
    "\n",
    "# 是否第一次網路消費且過去有非網路消費的經驗\n",
    "\n"
   ]
  },
  {
   "cell_type": "code",
   "execution_count": null,
   "metadata": {},
   "outputs": [],
   "source": [
    "# data = pd.concat([df[:train_num], train_Y], axis=1)\n",
    "# for c in df.columns:\n",
    "#     mean_df = data.groupby([c])['SalePrice'].mean().reset_index()\n",
    "#     mean_df.columns = [c, f'{c}_mean']\n",
    "#     data = pd.merge(data, mean_df, on=c, how='left')\n",
    "#     data = data.drop([c] , axis=1)\n",
    "\n",
    "\n",
    "# all_data['howmany_cano'] = \n",
    "# all_data['howmany_txkey'] = \n",
    "\n",
    "## bacno刷卡頻率分佈\n",
    "\n",
    "# all_data['fraud_before'] =\n",
    "# all_data['fraud_last_time'] =\n",
    "\n",
    "# 印出某個被盜刷的人的刷卡使用時間分佈\n"
   ]
  },
  {
   "cell_type": "markdown",
   "metadata": {},
   "source": [
    "## EDA(觀察資料分佈, 找特徵工程的Idea）\n",
    "\n",
    "#### 方法（四種）:\n",
    "1. 比較train, validation data, test data各個feature(不包括fraud_ind)的分佈，看各個feature是否會隨時間不同而改變\n",
    "    * 見 function compare_distribution\n",
    "    * 檢查差異,目測結果: txkey有一點差異，其他幾乎一樣\n",
    "    \n",
    "\n",
    "2. 比較train, validation data各個feature相對於fraud_ind的關係，看他們與fraud_ind的關係是否會隨時間改變，如果會就不適合做training feature\n",
    "    * 見 function analze_distribution\n",
    "    * 檢查差異，目測結果:\n",
    "        * 明顯差異,應該去除,或應該抽取更高層的穩定特徵(TODO): csmcu,mcc,loctm_hr2\n",
    "        * 無法判讀:應該找出來並想辦法去除或找更高層特徵(TODO): 蠻多特徵都看不出來有沒有差,因為類別太多＝＝\n",
    "\n",
    "\n",
    "3. 比較normal, fraud data的各個feature分佈差異，找有問題的feature!\n",
    "    * 結果:\n",
    "\n",
    "\n",
    "4. 但這樣無法看出單一用戶在normal和fraud的關係，所以要另外印出檢查，看有fraud data的用戶，該資料特點在哪\n",
    "    * 根據時間順序,以每個bacno來看fraud情況(最重要,適合找data leakage!!!!)\n",
    "    "
   ]
  },
  {
   "cell_type": "code",
   "execution_count": null,
   "metadata": {},
   "outputs": [],
   "source": [
    "delete_list = ['bacno','locdt','loctm','cano','fraud_ind','iterm']\n",
    "\n",
    "#txkey大小, cano可能會重複所以重要？\n",
    "\n",
    "delete_list = ['bacno','locdt','loctm','fraud_ind']\n",
    "\n",
    "binary_list=['ecfg','insfg','ovrlt','flbmk','flg_3dsmk']\n",
    "category_list=['contp','etymd','hcefg','stocn','scity','stscd','csmcu']"
   ]
  },
  {
   "cell_type": "markdown",
   "metadata": {},
   "source": [
    "## Parse train,valid"
   ]
  },
  {
   "cell_type": "code",
   "execution_count": null,
   "metadata": {},
   "outputs": [],
   "source": [
    "X_train = all_data[all_data['locdt']<=60].drop(columns=delete_list)\n",
    "y_train = all_data[all_data['locdt']<=60]['fraud_ind']\n",
    "X_test = all_data[(all_data['locdt']>60) & (all_data['locdt']<=90)].drop(columns=delete_list)\n",
    "y_test = all_data[(all_data['locdt']>60) & (all_data['locdt']<=90)]['fraud_ind']\n",
    "\n",
    "# all_train = all_data[all_data['locdt']<=90]\n",
    "# all_test = all_data[all_data['locdt']<=90]['fraud_ind']\n",
    "# test_data = all_data[all_data['locdt']>90]"
   ]
  },
  {
   "cell_type": "markdown",
   "metadata": {},
   "source": [
    "## 觀測 train, validation, test的distribution\n",
    "* 跟fraud_ind相關的，檢查train和validation就好（假設test data跟validation類似）\n",
    "* 每筆feature的distribution，檢查train,validation和test\n"
   ]
  },
  {
   "cell_type": "code",
   "execution_count": null,
   "metadata": {},
   "outputs": [],
   "source": [
    "def analze_distribution(data, target_col, feature, data_test):\n",
    "#     if data[feature].nunique()!=data_test[feature].nunique():\n",
    "#         print('data nunique not the same')\n",
    "    print(feature)\n",
    "    mean_data = data.groupby(feature)[target_col].mean()\n",
    "    mean_data_test = data_test.groupby(feature)[target_col].mean()\n",
    "    distribution_data = data[feature].value_counts(dropna=False)\n",
    "    distribution_data_test = data_test[feature].value_counts(dropna=False)\n",
    "    \n",
    "    fig, axs = plt.subplots(2,2,figsize=(10,5))\n",
    "    axs[0,0].plot(mean_data.index, mean_data.values, marker='o')\n",
    "    axs[0,0].set_title('Average {} wrt {}'.format(target_col,feature))\n",
    "    axs[0,0].set_ylabel('mean of {}'.format(target_col))\n",
    "    axs[0,0].set_xlabel(feature)\n",
    "    \n",
    "    \n",
    "    bins = data[feature].nunique() if data[feature].nunique()<100 else 100\n",
    "    data[feature].hist(bins=bins,ax=axs[0,1])\n",
    "\n",
    "#     axs[0,1].bar(distribution_data.index, distribution_data.values, alpha=0.5)\n",
    "    axs[0,1].set_title('distribution of {}'.format(feature))\n",
    "    axs[0,1].set_ylabel('count of {}'.format(feature))\n",
    "    axs[0,1].set_xlabel(feature)\n",
    "    \n",
    "    # Add text in figure coordinates\n",
    "    plt.figtext(0.5, 1,   'Train data plot', ha='center', va='center', fontsize=15)\n",
    "    plt.figtext(0.5, 0.5, 'Test data plot', ha='center', va='center', fontsize=15)\n",
    "    axs[1,0].plot(mean_data_test.index, mean_data_test.values, marker='o')\n",
    "    axs[1,0].set_title('Average {} wrt {}'.format(target_col,feature))\n",
    "    axs[1,0].set_ylabel('mean of {}'.format(target_col))\n",
    "    axs[1,0].set_xlabel(feature)\n",
    "    \n",
    "    bins = data_test[feature].nunique() if data_test[feature].nunique()<100 else 100\n",
    "    data_test[feature].hist(bins=bins,ax=axs[1,1])\n",
    "#     axs[1,1].bar(distribution_data_test.index, distribution_data_test.values, alpha=0.5)\n",
    "    distribution_data_test.hist\n",
    "    axs[1,1].set_title('distribution of {}'.format(feature))\n",
    "    axs[1,1].set_ylabel('count of {}'.format(feature))\n",
    "    axs[1,1].set_xlabel(feature)\n",
    "    plt.tight_layout(pad=3)\n"
   ]
  },
  {
   "cell_type": "code",
   "execution_count": null,
   "metadata": {},
   "outputs": [],
   "source": [
    "train_d =pd.concat([X_train,y_train],axis=1)\n",
    "valid_d =pd.concat([X_test,y_test],axis=1)\n",
    "# 自己做的圖表function，畵資料分佈的bar chart和對fraud_ind的關係\n",
    "for c in train_d.columns:\n",
    "    analze_distribution(train_d,'fraud_ind',c,valid_d)\n",
    "\n",
    "# print(train_d.csmcu.value_counts())\n",
    "# print(valid_d.csmcu.value_counts())\n",
    "\n",
    "from featexp import get_univariate_plots\n",
    "# get_univariate_plots(data=train_d, target_col='fraud_ind', features_list=['hcefg'], bins=100, data_test=valid_d)\n",
    "# get_univariate_plots(data=train_d, target_col='fraud_ind', features_list=['loctm_hr'], bins=10, data_test=valid_d)\n",
    "# get_univariate_plots(data=train_d, target_col='fraud_ind', features_list=['flg_3dsmk'], bins=10, data_test=valid_d)\n",
    "# get_univariate_plots(data=train_d, target_col='fraud_ind', features_list=['csmcu'], bins=100, data_test=valid_d)"
   ]
  },
  {
   "cell_type": "markdown",
   "metadata": {},
   "source": [
    "## 檢查train和test data的分佈有哪裡不一樣"
   ]
  },
  {
   "cell_type": "code",
   "execution_count": null,
   "metadata": {},
   "outputs": [],
   "source": [
    "def compare_distribution(train_data,test_data,target_name):\n",
    "    target = train_data[target_name]\n",
    "    target2 = test_data[target_name]\n",
    "    print(target_name)\n",
    "    print('nunique train',target.nunique())\n",
    "    print('nunique test',target2.nunique())\n",
    "    print('max train',target.max())\n",
    "    print('max test',target2.max())\n",
    "\n",
    "    fig, axs = plt.subplots(1,2,figsize=(10,3))\n",
    "    \n",
    "    bins = target.nunique() if target.nunique()<100 else 100\n",
    "    target.hist(bins=bins,ax=axs[0])\n",
    "    \n",
    "    bins = target2.nunique() if target2.nunique()<100 else 100\n",
    "    target2.hist(bins=bins,ax=axs[1])\n",
    "    plt.show()\n",
    "\n",
    "\n",
    "for c in all_data.drop(columns='fraud_ind'):\n",
    "    compare_distribution(all_data[all_data['locdt']<=90].drop(columns='fraud_ind'),all_data[all_data['locdt']>90].drop(columns='fraud_ind'),c)"
   ]
  },
  {
   "cell_type": "markdown",
   "metadata": {},
   "source": [
    "## fraud資料和normal資料的各個特徵差異"
   ]
  },
  {
   "cell_type": "code",
   "execution_count": null,
   "metadata": {},
   "outputs": [],
   "source": [
    "normal_data = all_data[all_data['fraud_ind']==0]\n",
    "fraud_data = all_data[all_data['fraud_ind']==1]\n",
    "\n",
    "for c in normal_data.columns:\n",
    "    print(c)\n",
    "    plt.clf()\n",
    "    fig, axs = plt.subplots(1,2,figsize=(10,3))\n",
    "\n",
    "    bins = normal_data[c].nunique() if normal_data[c].nunique()<100 else 100\n",
    "    normal_data[c].hist(bins=bins,ax=axs[0])\n",
    "    axs[0].set_title('Normal data')\n",
    "    bins = fraud_data[c].nunique() if fraud_data[c].nunique()<100 else 100\n",
    "    fraud_data[c].hist(bins=bins,ax=axs[1])\n",
    "    axs[1].set_title('Fraud data')\n",
    "    plt.show()\n"
   ]
  },
  {
   "cell_type": "markdown",
   "metadata": {},
   "source": [
    "## 觀察large category的feature是否有很多種bacno的fraud"
   ]
  },
  {
   "cell_type": "code",
   "execution_count": null,
   "metadata": {
    "scrolled": true
   },
   "outputs": [],
   "source": [
    "mchno_bacno_count = all_data.groupby('mchno').apply(lambda s:s[s['fraud_ind']==1]['bacno'].nunique())\n",
    "acqic_bacno_count = all_data.groupby('acqic').apply(lambda s:s[s['fraud_ind']==1]['bacno'].nunique())\n",
    "mcc_bacno_count = all_data.groupby('mcc').apply(lambda s:s[s['fraud_ind']==1]['bacno'].nunique())"
   ]
  },
  {
   "cell_type": "code",
   "execution_count": null,
   "metadata": {},
   "outputs": [],
   "source": [
    "print(mchno_bacno_count.sum())\n",
    "print(mchno_bacno_count[mchno_bacno_count>1].sort_values())\n",
    "\n",
    "print(acqic_bacno_count.sum())\n",
    "print(acqic_bacno_count[acqic_bacno_count>1].sort_values())\n",
    "\n",
    "print(mcc_bacno_count.sum())\n",
    "print(mcc_bacno_count[mcc_bacno_count>1].sort_values())"
   ]
  },
  {
   "cell_type": "markdown",
   "metadata": {},
   "source": [
    "## 以每個bacno來看fraud情況\n",
    "* 找出使用者被盜刷卡時，和一般的交易差在哪裡\n"
   ]
  },
  {
   "cell_type": "code",
   "execution_count": null,
   "metadata": {},
   "outputs": [],
   "source": [
    "bacno_fraud_count = all_data.groupby('bacno').apply(lambda s:s[s['fraud_ind']==1]['bacno'].shape[0])"
   ]
  },
  {
   "cell_type": "code",
   "execution_count": null,
   "metadata": {},
   "outputs": [],
   "source": [
    "print('All fraud instance',all_data.fraud_ind.sum(skipna=True))\n",
    "print('{} different bacno'.format(bacno_fraud_count[bacno_fraud_count>0].shape[0]))\n",
    "\n",
    "bacno_fraud_count[(bacno_fraud_count<10)&(bacno_fraud_count>0)].hist(bins=9)\n",
    "plt.show()\n",
    "plt.clf()\n",
    "bacno_fraud_count[(bacno_fraud_count>0)].hist(bins=100)\n",
    "\n",
    "## 幾乎都只被騙過一兩次"
   ]
  },
  {
   "cell_type": "code",
   "execution_count": null,
   "metadata": {},
   "outputs": [],
   "source": [
    "list1=['locdt','cano','etymd','mchno','acqic','mcc','stocn','conam','fraud_ind']\n",
    "list2=['locdt','conam','ecfg','insfg','iterm','stscd','ovrlt','hcefg','fraud_ind']\n",
    "\n",
    "\n",
    "bacno_10fraud_more_list = bacno_fraud_count[(bacno_fraud_count==1)].index\n",
    "pd.set_option('display.max_rows', 1000)\n",
    "# print(x)\n",
    "# pd.reset_option('display.max_rows')\n",
    "\n",
    "for b in bacno_10fraud_more_list:\n",
    "    print()\n",
    "    \n",
    "    print(b,all_data[all_data['bacno']==b]['fraud_ind'].sum())\n",
    "    print(all_data[all_data['bacno']==b][list1].sort_values(by=['locdt']))"
   ]
  },
  {
   "cell_type": "code",
   "execution_count": null,
   "metadata": {},
   "outputs": [],
   "source": [
    "## important!\n",
    "\n",
    "bacno_10fraud_more_list = bacno_fraud_count[(bacno_fraud_count>10)].index\n",
    "pd.set_option('display.max_rows', 1000)\n",
    "# print(x)\n",
    "# pd.reset_option('display.max_rows')\n",
    "\n",
    "for b in bacno_10fraud_more_list:\n",
    "    print()\n",
    "    \n",
    "    print(b,all_data[all_data['bacno']==b]['fraud_ind'].sum())\n",
    "    print(all_data[all_data['bacno']==b][['locdt','cano','contp','etymd','mchno','acqic','mcc','stocn','fraud_ind']].sort_values(by=['locdt']))"
   ]
  },
  {
   "cell_type": "markdown",
   "metadata": {},
   "source": [
    "曾經在該國被盜刷的紀錄\n",
    "曾經在該mchno被盜刷的紀錄\n",
    "曾經在該mchno被盜刷\n",
    "最後一筆是不是盜刷\n"
   ]
  },
  {
   "cell_type": "markdown",
   "metadata": {},
   "source": [
    "### 檢查在test data中,新出現的類別有多少\n",
    "bacno, mchno, acqic, mcc, stocn, scity, csmcu "
   ]
  },
  {
   "cell_type": "code",
   "execution_count": null,
   "metadata": {},
   "outputs": [],
   "source": [
    "def find_new_category(x,target_name):\n",
    "    x_train = x[x['locdt']<=90][target_name].unique()\n",
    "    x_test = x[x['locdt']>90][target_name].unique()\n",
    "    \n",
    "    print(target_name)\n",
    "    print('{} categories in Training data:'.format(x_train.shape[0]))\n",
    "    print('{} categories in Testing data:'.format(x_test.shape[0]))\n",
    "\n",
    "    x_new_test=[]\n",
    "    for b in x_test:\n",
    "        if b not in x_train:\n",
    "            x_new_test.append(b)\n",
    "\n",
    "    print('{} new categories'.format(len(x_new_test)))    "
   ]
  },
  {
   "cell_type": "code",
   "execution_count": null,
   "metadata": {},
   "outputs": [],
   "source": [
    "## 幾乎所有在test data的都是新用戶 乾\n",
    "## 所以重點特徵工程不能使用用戶過去的fraud記錄\n",
    "find_new_category(all_data,'bacno')\n",
    "\n",
    "## 幾乎都太多只出現在test data上的新類別,這樣得轉換可以用來訓練(TODO)\n",
    "find_new_category(all_data,'mchno')\n",
    "find_new_category(all_data,'acqic')\n",
    "find_new_category(all_data,'mcc')\n",
    "find_new_category(all_data,'stocn')\n",
    "find_new_category(all_data,'scity')\n",
    "find_new_category(all_data,'csmcu')\n"
   ]
  },
  {
   "cell_type": "code",
   "execution_count": null,
   "metadata": {},
   "outputs": [],
   "source": []
  },
  {
   "cell_type": "code",
   "execution_count": null,
   "metadata": {},
   "outputs": [],
   "source": [
    "## 感覺txkey跟其他特徵都沒什麼關係？\n",
    "print(np.corrcoef(all_data['txkey'],all_data['locdt']))"
   ]
  },
  {
   "cell_type": "markdown",
   "metadata": {},
   "source": [
    "## Train on LGB(未調參數)"
   ]
  },
  {
   "cell_type": "code",
   "execution_count": null,
   "metadata": {},
   "outputs": [],
   "source": [
    "print(X_train.shape)\n",
    "print(y_train.sum()/y_train.shape[0])\n",
    "print(y_test.sum()/y_test.shape[0])\n",
    "\n",
    "\n",
    "import lightgbm as lgb\n",
    "from lightgbm.sklearn import LGBMClassifier\n",
    "from sklearn.metrics import f1_score\n",
    "def lgb_f1_score(y_true, y_pred):\n",
    "    y_pred = np.round(y_pred) # scikits f1 doesn't like probabilities\n",
    "    return 'f1', f1_score(y_true, y_pred), True\n",
    "\n",
    "param_dist_lgb = {\n",
    "                  'num_leaves':45, \n",
    "#                   'max_depth':5, \n",
    "                  'learning_rate':0.1, \n",
    "                  'n_estimators':3500,\n",
    "                  'objective': 'binary',\n",
    "#                   'subsample': 1, \n",
    "#                   'colsample_bytree': 0.5, \n",
    "                  'lambda_l1': 0.1,\n",
    "#                   'lambda_l2': 0,\n",
    "#                   'min_child_weight': 1,\n",
    "                  'random_state': random_seed,\n",
    "                 }\n",
    "evals_result = {}\n",
    "\n",
    "lgb_clf = LGBMClassifier(**param_dist_lgb)\n",
    "lgb_clf.fit(X_train, y_train,\n",
    "        eval_set=[(X_train, y_train),(X_test, y_test)],\n",
    "        eval_metric=lgb_f1_score,\n",
    "        early_stopping_rounds=600,\n",
    "        verbose=True,\n",
    "        callbacks=[lgb.record_evaluation(evals_result)]\n",
    "        )\n",
    "\n",
    "print('F1',f1_score(y_test, lgb_clf.predict(X_test)))"
   ]
  },
  {
   "cell_type": "code",
   "execution_count": null,
   "metadata": {},
   "outputs": [],
   "source": [
    "print('Plotting metrics recorded during training...')\n",
    "ax = lgb.plot_metric(evals_result, metric='f1')\n",
    "plt.show()\n",
    "\n",
    "print('Plotting feature importances...')\n",
    "ax = lgb.plot_importance(lgb_clf, max_num_features=10)\n",
    "plt.show()\n",
    "\n",
    "print('Plotting 4th tree...')  # one tree use categorical feature to split\n",
    "ax = lgb.plot_tree(lgb_clf, tree_index=3, figsize=(15, 15), show_info=['split_gain'])\n",
    "plt.show()\n",
    "\n",
    "print('Plotting 4th tree with graphviz...')\n",
    "graph = lgb.create_tree_digraph(lgb_clf, tree_index=3, name='Tree4')\n",
    "graph.render(view=True)"
   ]
  },
  {
   "cell_type": "markdown",
   "metadata": {},
   "source": [
    "## write csv"
   ]
  },
  {
   "cell_type": "code",
   "execution_count": null,
   "metadata": {},
   "outputs": [],
   "source": [
    "# lgb_clf = LGBMClassifier(**param_dist_lgb)\n",
    "# lgb_clf.fit(train_data,label_data)\n",
    "\n",
    "# result = lgb_clf.predict(test_data)\n",
    "# print(result.sum())\n",
    "# print(result.sum()/result.shape[0])\n",
    "# print(label_data.sum()/label_data.shape[0])\n",
    "\n",
    "# test_data_txkey = test_data['txkey'].copy()\n",
    "\n",
    "# import csv\n",
    "# with open('../prediction/submit_lgb.csv','w') as f:\n",
    "#     writer = csv.writer(f)\n",
    "#     writer.writerow(['txkey','fraud_ind'])\n",
    "#     for i in range(result.shape[0]):\n",
    "#         writer.writerow([test_data_txkey[i], result[i]])"
   ]
  },
  {
   "cell_type": "code",
   "execution_count": null,
   "metadata": {},
   "outputs": [],
   "source": []
  },
  {
   "cell_type": "code",
   "execution_count": null,
   "metadata": {},
   "outputs": [],
   "source": []
  },
  {
   "cell_type": "markdown",
   "metadata": {},
   "source": [
    "## Anomaly detection\n",
    "* one class svm\n",
    "* isolation tree\n",
    "* replicator NN\n",
    "* Kmeans?\n",
    "* KNN(take too much time)"
   ]
  },
  {
   "cell_type": "markdown",
   "metadata": {},
   "source": [
    "## 製作特徵\n",
    "XGB, PCA, Isolation Forest, Kmean距離？, oneclass SVM?\n",
    "當作新feature"
   ]
  },
  {
   "cell_type": "code",
   "execution_count": null,
   "metadata": {},
   "outputs": [],
   "source": [
    "import xgboost as xgb\n",
    "param_dist_xgb = {'learning_rate':0.01, #默认0.3\n",
    "              'n_estimators':1000, #树的个数\n",
    "#               'max_depth':5,\n",
    "#               'min_child_weight':1,\n",
    "#               'gamma':0.2,\n",
    "#               'subsample':0.8,\n",
    "#               'colsample_bytree':0.8,\n",
    "#               'objective': 'binary:logistic', #逻辑回归损失函数\n",
    "#               'nthread':4,  #cpu线程数\n",
    "#               'scale_pos_weight':1,\n",
    "              'seed':random_seed}  #随机种子\n",
    "\n",
    "evals_result = {}\n",
    "\n",
    "xgb_clf = xgb.XGBClassifier(**param_dist_xgb)\n",
    "xgb_clf.fit(X_train, y_train,\n",
    "        eval_set=[(X_train, y_train),(X_test, y_test)],\n",
    "        eval_metric=lgb_f1_score,\n",
    "        early_stopping_rounds=600,\n",
    "        verbose=True,\n",
    "#         callbacks=[xgb.record_evaluation(evals_result)]\n",
    "        )\n",
    "\n",
    "print('F1',f1_score(y_test, xgb_clf.predict(X_test)))\n",
    "xgb_X_train = xgb_clf.apply(X_train)\n",
    "xgb_X_test = xgb_clf.apply(X_test)"
   ]
  },
  {
   "cell_type": "markdown",
   "metadata": {},
   "source": [
    "## PCA visualization in one person who has fraud data"
   ]
  },
  {
   "cell_type": "code",
   "execution_count": null,
   "metadata": {},
   "outputs": [],
   "source": [
    "from sklearn.decomposition import PCA\n",
    "def PCA_plot(x,label):\n",
    "    x = x.drop(columns=)\n",
    "    \n",
    "    ## 應該先轉dummy,標準化,再PCA\n",
    "    dummy_list=['contp','etymd','stscd','hcefg']\n",
    "    dummy_list2=['stocn','scity','csmcu']#'mchno','acqic','mcc',\n",
    "    x[dummy_list] = x[dummy_list].astype(object)\n",
    "    x[dummy_list2] = x[dummy_list2].astype(object)\n",
    "    x = pd.get_dummies(x).drop(columns=['mchno','acqic'])    \n",
    "    \n",
    "    from sklearn.preprocessing import StandardScaler \n",
    "    stdsc = StandardScaler() \n",
    "    x = stdsc.fit_transform(x)\n",
    "    print(x.shape,label.sum())\n",
    "\n",
    "    PCA_model = PCA(n_components=2)\n",
    "    train_data_pca = PCA_model.fit_transform(x)\n",
    "    train_data_pca1 = train_data_pca[label==1]\n",
    "    train_data_pca0 = train_data_pca[label==0]\n",
    "    \n",
    "    plt.clf()\n",
    "    plt.figure(figsize=(10,10))\n",
    "    plt.scatter(train_data_pca1[:, 0], train_data_pca1[:, 1], c='r',label='fraud transaction',s=100)\n",
    "    plt.scatter(train_data_pca0[:, 0], train_data_pca0[:, 1], c='b',label='normal transaction',s=3)\n",
    "    plt.legend()\n",
    "    plt.show()\n",
    "    \n",
    "bacno_hasfraud = all_data[all_data['fraud_ind']==1]['bacno'].unique()\n",
    "print(bacno_hasfraud.shape[0])\n",
    "print(all_data[all_data['fraud_ind']==1].shape[0])\n",
    "\n",
    "for i in range(bacno_hasfraud.shape[0]):\n",
    "    if all_data[all_data['bacno']==bacno_hasfraud[i]].shape[0]>300:\n",
    "        print('Ploting PCA on bacno-{}'.format(bacno_hasfraud[i]))\n",
    "        PCA_plot(all_data[all_data['bacno']==bacno_hasfraud[i]],all_data[all_data['bacno']==bacno_hasfraud[i]]['fraud_ind'])\n",
    "\n",
    "## TSNE, Kmeans作圖?"
   ]
  },
  {
   "cell_type": "markdown",
   "metadata": {},
   "source": [
    "## Isolation Forest"
   ]
  },
  {
   "cell_type": "code",
   "execution_count": null,
   "metadata": {
    "scrolled": true
   },
   "outputs": [],
   "source": [
    "from sklearn.ensemble import IsolationForest\n",
    "\n",
    "c_ratio = y_train.sum()/y_train.shape[0]\n",
    "# fit the model\n",
    "clf = IsolationForest(behaviour='new', max_samples=0.8, max_features=1,\n",
    "                      random_state=random_seed, contamination=c_ratio)\n",
    "clf.fit(X_train)\n",
    "\n",
    "y_pred_train = clf.predict(X_train)\n",
    "y_pred_test = clf.predict(X_test)\n",
    "\n",
    "y_pred_test2 = -y_pred_test\n",
    "y_pred_test2[y_pred_test2==-1]=0\n",
    "y_pred_test2.sum()\n",
    "\n",
    "y_pred_train2 = -y_pred_train\n",
    "y_pred_train2[y_pred_train2==-1]=0\n",
    "y_pred_train2.sum()\n",
    "\n",
    "from sklearn.metrics import f1_score\n",
    "print(f1_score(y_train, y_pred_train2))\n",
    "print(f1_score(y_test, y_pred_test2))\n",
    "\n",
    "isolationtree_X_train = clf.score_samples(X_train)\n",
    "isolationtree_X_test = clf.score_samples(X_test)\n",
    "\n",
    "print(isolationtree_X_train)"
   ]
  },
  {
   "cell_type": "markdown",
   "metadata": {},
   "source": [
    "## One class SVM"
   ]
  },
  {
   "cell_type": "code",
   "execution_count": null,
   "metadata": {},
   "outputs": [],
   "source": [
    "from sklearn import svm\n",
    "\n",
    "clf = svm.OneClassSVM(nu=0.1, kernel=\"rbf\", gamma='scale',verbose=True, random_state=random_seed)\n",
    "clf.fit(X_train)\n",
    "y_pred_train = clf.predict(X_train)\n",
    "y_pred_test = clf.predict(X_test)\n",
    "y_pred_test.sum()\n",
    "\n",
    "y_pred_train2 = -y_pred_train\n",
    "y_pred_train2[y_pred_train2==-1]=0\n",
    "y_pred_train2.sum()\n",
    "\n",
    "from sklearn.metrics import f1_score\n",
    "print(f1_score(y_train, y_pred_train2))\n",
    "print(f1_score(y_test, y_pred_test2))\n",
    "\n",
    "svm_X_train = clf.score_samples(X_train)\n",
    "svm_X_test = clf.score_samples(X_test)\n",
    "\n",
    "print(isolationtree_X_train)"
   ]
  }
 ],
 "metadata": {
  "kernelspec": {
   "display_name": "Python 3",
   "language": "python",
   "name": "python3"
  },
  "language_info": {
   "codemirror_mode": {
    "name": "ipython",
    "version": 3
   },
   "file_extension": ".py",
   "mimetype": "text/x-python",
   "name": "python",
   "nbconvert_exporter": "python",
   "pygments_lexer": "ipython3",
   "version": "3.5.2"
  }
 },
 "nbformat": 4,
 "nbformat_minor": 2
}
